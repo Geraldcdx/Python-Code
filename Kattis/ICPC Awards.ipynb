{
 "cells": [
  {
   "cell_type": "code",
   "execution_count": 30,
   "metadata": {},
   "outputs": [
    {
     "name": "stdout",
     "output_type": "stream",
     "text": [
      "2\n",
      "ascdas dasdas\n",
      "dasdasdsa dasdas\n",
      "ascdas dasdas\n",
      "dasdasdsa dasdas\n"
     ]
    }
   ],
   "source": [
    "country = set()\n",
    "winningC=[]\n",
    "counter=0\n",
    "for i in range(int(input())):\n",
    "    s=input()\n",
    "    if(counter==12):\n",
    "        continue\n",
    "    a,b = tuple(s.split())\n",
    "    if a not in country:\n",
    "        winningC.append(s)\n",
    "        country.add(a)\n",
    "        counter+=1\n",
    "for team in winningC:\n",
    "    print(team)"
   ]
  },
  {
   "cell_type": "code",
   "execution_count": null,
   "metadata": {
    "collapsed": true
   },
   "outputs": [],
   "source": []
  }
 ],
 "metadata": {
  "kernelspec": {
   "display_name": "Python 3",
   "language": "python",
   "name": "python3"
  },
  "language_info": {
   "codemirror_mode": {
    "name": "ipython",
    "version": 3
   },
   "file_extension": ".py",
   "mimetype": "text/x-python",
   "name": "python",
   "nbconvert_exporter": "python",
   "pygments_lexer": "ipython3",
   "version": "3.6.3"
  }
 },
 "nbformat": 4,
 "nbformat_minor": 2
}
