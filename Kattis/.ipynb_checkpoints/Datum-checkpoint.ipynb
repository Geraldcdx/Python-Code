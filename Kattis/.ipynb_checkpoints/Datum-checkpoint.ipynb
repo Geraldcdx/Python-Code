{
 "cells": [
  {
   "cell_type": "code",
   "execution_count": null,
   "metadata": {},
   "outputs": [],
   "source": [
    "from datetime import date\n",
    "\n",
    "days=[\n",
    "    'Monday','Tuesday','Wednesday','Thursday','Friday','Saturday','Sunday'\n",
    "]\n",
    "dategiven=int(input());\n",
    "day,month =(tuple(dategiven.split()))\n",
    "date= date(2009,month,day)\n",
    "print(days[date.weekday()])"
   ]
  },
  {
   "cell_type": "code",
   "execution_count": null,
   "metadata": {
    "collapsed": true
   },
   "outputs": [],
   "source": [
    "from datetime import date\n",
    "\n",
    "days=[\n",
    "    'Monday','Tuesday','Wednesday','Thursday','Friday','Saturday','Sunday'\n",
    "]\n",
    "\n",
    "dategiven=int(input());\n",
    "#day,month =(tuple(dategiven.split()))\n",
    "#date= date(2009,month,day)\n",
    "#print(days[date.weekday()])"
   ]
  }
 ],
 "metadata": {
  "kernelspec": {
   "display_name": "Python 3",
   "language": "python",
   "name": "python3"
  },
  "language_info": {
   "codemirror_mode": {
    "name": "ipython",
    "version": 3
   },
   "file_extension": ".py",
   "mimetype": "text/x-python",
   "name": "python",
   "nbconvert_exporter": "python",
   "pygments_lexer": "ipython3",
   "version": "3.6.3"
  }
 },
 "nbformat": 4,
 "nbformat_minor": 2
}
