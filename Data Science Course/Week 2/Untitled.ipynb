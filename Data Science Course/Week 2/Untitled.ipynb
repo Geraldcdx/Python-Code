{
 "cells": [
  {
   "cell_type": "code",
   "execution_count": 49,
   "metadata": {},
   "outputs": [
    {
     "name": "stdout",
     "output_type": "stream",
     "text": [
      "<class 'dict'>\n",
      "<class 'tuple'>\n",
      "<class 'set'>\n",
      "<class 'list'>\n",
      "{5: [2, 2, 5, 6, 7]}\n",
      "{5: [9999, 2, 5, 6, 7]}\n",
      "[4, 5, 6, 7, 8, 9, 9, 9, 9]\n",
      "{'hello': [5, 5]}\n"
     ]
    }
   ],
   "source": [
    "x = {\"hello\":5}\n",
    "print(type(x))\n",
    "y=(5,\"hello\",5,5,\"gg\")\n",
    "print(type(y))\n",
    "y={1}\n",
    "print(type(y))\n",
    "y=[4]\n",
    "print(type(y))\n",
    "\n",
    "x={}\n",
    "x[5]=[2,2,5,6,7]\n",
    "print(x)\n",
    "x[5][0]=9999\n",
    "print(x)\n",
    "\n",
    "y=[]\n",
    "y.extend([4,9,9,9,5,6,7,8,9])\n",
    "y.sort()\n",
    "print(y)\n",
    "\n",
    "z={3,1,2,0}\n",
    "#z.sort() doesnt exist because its a set\n",
    "\n",
    "x={}\n",
    "#x['hello':5]\n",
    "#x['hello'].append(4)\n",
    "\n",
    "x['hello']=[5]\n",
    "x['hello'].append(5)\n",
    "print(x)\n",
    "\n",
    "if(totaldeposit>40000)\n",
    "    var1=1\n",
    "else:\n",
    "    var1=0\n",
    "if(deposit>14000)\n",
    "    var2=0\n",
    "else\n",
    "    "
   ]
  }
 ],
 "metadata": {
  "kernelspec": {
   "display_name": "Python 3",
   "language": "python",
   "name": "python3"
  },
  "language_info": {
   "codemirror_mode": {
    "name": "ipython",
    "version": 3
   },
   "file_extension": ".py",
   "mimetype": "text/x-python",
   "name": "python",
   "nbconvert_exporter": "python",
   "pygments_lexer": "ipython3",
   "version": "3.6.3"
  }
 },
 "nbformat": 4,
 "nbformat_minor": 2
}
