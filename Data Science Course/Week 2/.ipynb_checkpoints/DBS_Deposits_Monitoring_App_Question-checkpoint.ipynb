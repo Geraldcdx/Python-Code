{
 "cells": [
  {
   "cell_type": "markdown",
   "metadata": {},
   "source": [
    "<h2>DBS Deposits Monitoring App</h2>"
   ]
  },
  {
   "cell_type": "markdown",
   "metadata": {},
   "source": [
    "The following collections are the monthly deposit data that DBS has for its client. Make use of the data to do the following:\n",
    "\n",
    " - Make use of the index method to find the total sum of the deposits that DBS has garnered over the past three months\n",
    " - Write your own conditions to check for two things: (1) Is the total deposits more than 40000, and (2) does each of the months have a total deposit amount of more than 14000\n",
    " \n",
    "     - If the total deposits fit the above two conditions then print: \"Our finance status is healthy!\"\n",
    "     - If only one condition is met then print: \"Our monthly deposit is not stable enough!\"\n",
    "     - If none of the conditions are met then print: \"Our finance status is not healthy!\"\n",
    "\n",
    "\n"
   ]
  },
  {
   "cell_type": "markdown",
   "metadata": {},
   "source": [
    "Hints:\n",
    "    \n",
    " - example_dict = {'Jan':[1,2,3],  'Feburary':[1,2,3], 'March': [1,2]}\n",
    " - example_dict['Jan'] => This will return the list that corresponds to the key\n",
    " - example_dict['Jan'][0] => This will return the first value of the list that corresponds to the key, basically 0\n",
    "\n",
    "So if i want to get the total value of jan:\n",
    "- jan_amt = example_dict['Jan'][0] + example_dict['Jan'][1] + example_dict['Jan'][2]\n",
    "\n",
    "\n",
    "After you get all the values, then you need thread them together with a series of if, elif and else statements"
   ]
  },
  {
   "cell_type": "code",
   "execution_count": 13,
   "metadata": {
    "collapsed": true
   },
   "outputs": [],
   "source": [
    "DBS_Banking_Deposits = {'January':[15000,9800,10100],  'Feburary':[2500,1400,14100], 'March': [20000,78366]}\n",
    "#Write your codes below\n",
    "var1=0\n",
    "var2=0\n",
    "jan=DBS_Banking_Deposits['January'][0]+DBS_Banking_Deposits['January'][1]+DBS_Banking_Deposits['January'][2]\n",
    "feb=DBS_Banking_Deposits['February'][0]+DBS_Banking_Deposits['February'][1]+DBS_Banking_Deposits['February'][2]\n",
    "mar=DBS_Banking_Deposits['March'][0]+DBS_Banking_Deposits['March'][1]+DBS_Banking_Deposits['January'][2]\n",
    "\n",
    "\n",
    "#Expected output : \"Our finance status is healthy!\""
   ]
  },
  {
   "cell_type": "code",
   "execution_count": 14,
   "metadata": {
    "collapsed": true
   },
   "outputs": [],
   "source": [
    "#Using the same codes, test it against the following data\n",
    "DBS_Banking_Deposits = {'January':[150,9000,10100],  'Feburary':[15000,200,9000], 'March': [10000,72]}\n",
    "\n",
    "\n",
    "\n",
    "#Expected output : \"Our monthly deposit is not stable enough!\""
   ]
  },
  {
   "cell_type": "code",
   "execution_count": 15,
   "metadata": {
    "collapsed": true
   },
   "outputs": [],
   "source": [
    "#Using the same codes, test it against the following data\n",
    "DBS_Banking_Deposits = {'January':[1500,10000,10000],  'Feburary':[2100,4000,8000], 'March': [2400,2000]}\n",
    "\n",
    "\n",
    "    \n",
    "#Expected output : \"Our finance status is not healthy!\""
   ]
  },
  {
   "cell_type": "code",
   "execution_count": 16,
   "metadata": {
    "collapsed": true
   },
   "outputs": [],
   "source": [
    "#Using the same codes, test it against the following data\n",
    "DBS_Banking_Deposits = {'January':[9000,2000,3200],  'Feburary':[10000,3000,1000], 'March': [10000,4000]}\n",
    "\n",
    "\n",
    "\n",
    "#Expected output : \"Our monthly deposit is not stable enough!\""
   ]
  }
 ],
 "metadata": {
  "kernelspec": {
   "display_name": "Python 3",
   "language": "python",
   "name": "python3"
  },
  "language_info": {
   "codemirror_mode": {
    "name": "ipython",
    "version": 3
   },
   "file_extension": ".py",
   "mimetype": "text/x-python",
   "name": "python",
   "nbconvert_exporter": "python",
   "pygments_lexer": "ipython3",
   "version": "3.6.3"
  }
 },
 "nbformat": 4,
 "nbformat_minor": 2
}
