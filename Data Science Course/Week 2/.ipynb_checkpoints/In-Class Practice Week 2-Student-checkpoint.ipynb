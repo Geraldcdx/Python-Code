{
 "cells": [
  {
   "cell_type": "markdown",
   "metadata": {},
   "source": [
    "<h1>MAKING OUR CODES INTELLIGENT WITH CONDITIONS</h1>"
   ]
  },
  {
   "cell_type": "markdown",
   "metadata": {},
   "source": [
    "<p>So far, the codes we have learnt are very sequential in nature. They simply execute whatever they are told to do. For instance, when we add x + y, we know we will definitely get an output. However, what happens if we want more control and intelligence in our codes? For example, if i only want x+y if certain conditions are met, how should we do it?</p>\n",
    "\n",
    "That's why we have conditionals, which is a combination of: (1) relational operators, and (2) conditional operators, and (3) conditional construct (if, elif, else). We will cover them one by one"
   ]
  },
  {
   "cell_type": "markdown",
   "metadata": {},
   "source": [
    "<h2>Relational Operators</h2>"
   ]
  },
  {
   "cell_type": "markdown",
   "metadata": {},
   "source": [
    "#### LET’S EVALUATE THESE MENTALLY AND TRY ON JUPYTER"
   ]
  },
  {
   "cell_type": "code",
   "execution_count": 4,
   "metadata": {
    "collapsed": true
   },
   "outputs": [],
   "source": [
    "#Given these variables\n",
    "a = 100\n",
    "b = 5\n",
    "c = -5\n",
    "d = 5\n",
    "\n",
    "\n",
    "#Evaluate these expressions\n",
    "#a > b\n",
    "#b < c\n",
    "#b >= c\n",
    "#c <= d\n",
    "#a == b + d\n",
    "#d <= a + c\n",
    "#c != b\n"
   ]
  },
  {
   "cell_type": "markdown",
   "metadata": {},
   "source": [
    "#### PUTTING EVERYTHING TOGETHER (Using relational operators with 'if' construct)\n"
   ]
  },
  {
   "cell_type": "code",
   "execution_count": 8,
   "metadata": {},
   "outputs": [
    {
     "name": "stdout",
     "output_type": "stream",
     "text": [
      "See You Again has less view!\n"
     ]
    }
   ],
   "source": [
    "see_you_again = 5000\n",
    "despacito = 15000\n",
    "\n",
    "if see_you_again < despacito:\n",
    "    print(\"See You Again has less view!\")\n"
   ]
  },
  {
   "cell_type": "markdown",
   "metadata": {},
   "source": [
    "<h2>Conditional Operators</h2>"
   ]
  },
  {
   "cell_type": "code",
   "execution_count": null,
   "metadata": {
    "collapsed": true
   },
   "outputs": [],
   "source": [
    "#Given these variables\n",
    "a = 100\n",
    "b = 5\n",
    "c = -5\n",
    "d = 5\n",
    "\n",
    "\n",
    "#Evaluate these expressions\n",
    "#a > b and b > c\n",
    "#a > b and b < c\n",
    "#a > b or b < c\n",
    "#a >= b + d and a > c\n",
    "#c == b or 2b == d - c  \n"
   ]
  },
  {
   "cell_type": "markdown",
   "metadata": {},
   "source": [
    "<h2>Using the operators with the 'if' construct</h2>"
   ]
  },
  {
   "cell_type": "markdown",
   "metadata": {},
   "source": [
    "#### PUTTING EVERYTHING TOGETHER (Using conditional operators with 'if' construct)\n"
   ]
  },
  {
   "cell_type": "code",
   "execution_count": 11,
   "metadata": {},
   "outputs": [
    {
     "name": "stdout",
     "output_type": "stream",
     "text": [
      "despacito has the most number of views!\n"
     ]
    }
   ],
   "source": [
    "see_you_again = 5000\n",
    "despacito = 15000\n",
    "havana = 3000\n",
    "\n",
    "if see_you_again < despacito and havana < despacito:\n",
    "    print(\"despacito has the most number of views!\")\n"
   ]
  },
  {
   "cell_type": "markdown",
   "metadata": {},
   "source": [
    "#### IN-CLASS PRACTICE: IF STATEMENT EXAMPLES"
   ]
  },
  {
   "cell_type": "code",
   "execution_count": null,
   "metadata": {
    "collapsed": true
   },
   "outputs": [],
   "source": [
    "##Try writing the codes of the various examples below!\n",
    "\n"
   ]
  },
  {
   "cell_type": "markdown",
   "metadata": {},
   "source": [
    "#### IN-CLASS PRACTICE: USING CONDITIONAL OPERATORS\n"
   ]
  },
  {
   "cell_type": "markdown",
   "metadata": {},
   "source": [
    "The following are details of a youtube video, make use of conditions and if structure to check the video is from Singapore, and if the views are more than 150000. <b>If it’s true, print out that “This is Singapore’s most popular video.”</b>\n"
   ]
  },
  {
   "cell_type": "code",
   "execution_count": 15,
   "metadata": {},
   "outputs": [
    {
     "name": "stdout",
     "output_type": "stream",
     "text": [
      "This is Singapore’s most popular video\n"
     ]
    }
   ],
   "source": [
    "country = \"Singapore\"\n",
    "views = '6732948'\n"
   ]
  },
  {
   "cell_type": "markdown",
   "metadata": {},
   "source": [
    "<h2>Using If-else to create alternate pathways</h2>"
   ]
  },
  {
   "cell_type": "markdown",
   "metadata": {},
   "source": [
    "By combining the 'else' synatx with the above codes, we can actually create alternate pathways as mentioned in the slides. Let's look at an extension of a similar question which we worked on earlier"
   ]
  },
  {
   "cell_type": "markdown",
   "metadata": {},
   "source": [
    "The following are details of a youtube video, make use of conditions and if structure to check the video is from Singapore, and if the views are more than 150000. <b>If it’s true, print out that “This is Singapore’s most popular video.” Else, print out that “this is another normal video</b>\n"
   ]
  },
  {
   "cell_type": "code",
   "execution_count": 1,
   "metadata": {
    "collapsed": true
   },
   "outputs": [],
   "source": [
    "#Write your code below\n",
    "country = \"Singapore\"\n",
    "views = '2390'\n"
   ]
  },
  {
   "cell_type": "markdown",
   "metadata": {},
   "source": [
    "<h2>More pathways using 'if-elif-else' construct </h2>"
   ]
  },
  {
   "cell_type": "markdown",
   "metadata": {},
   "source": [
    "As shown in the slides, by adding the 'elif' construct we can add more than 2 pathways..Let's try in the question below"
   ]
  },
  {
   "cell_type": "markdown",
   "metadata": {},
   "source": [
    "#### CALCULATING INFLUENCER PAY\n",
    "- The YouTube influencer management team wants to automate the payment to the influencers based on monthly views on their channel. The influencer monthly payment rules as follow:\n",
    "    - The influencer must have at least 50,000 views in the month to qualify for a payment. \n",
    "    - The influencer will be paid \\$0.01 per view if he/she has between 50,000 to 100,000 views.\n",
    "    - If the influencer has more than 100,000 he/she will be paid \\$0.05 per views <br><br>\n",
    "    \n",
    "- Write a Python program to calculate the pay for the below influencers:\n",
    "    - XiaXue_views = 126,311\n",
    "    - Roy_views = 819\n",
    "    - BrowieTv_views = 51,101"
   ]
  },
  {
   "cell_type": "code",
   "execution_count": 2,
   "metadata": {
    "collapsed": true
   },
   "outputs": [],
   "source": [
    "XiaXue_views = 126311\n",
    "Roy_views = 819\n",
    "BrowieTv_views = 51101\n",
    "\n"
   ]
  },
  {
   "cell_type": "markdown",
   "metadata": {},
   "source": [
    "<h2>Nested Decisions </h2>"
   ]
  },
  {
   "cell_type": "markdown",
   "metadata": {},
   "source": [
    "There are instances where you need to ask “follow-up” questions after clearing the first condition. Python allows you to evaluate “follow-up” conditions through the nesting of one decision construct in another.\n"
   ]
  },
  {
   "cell_type": "markdown",
   "metadata": {},
   "source": [
    "#### Rewrite the following nested with only a single layer decision "
   ]
  },
  {
   "cell_type": "code",
   "execution_count": null,
   "metadata": {
    "collapsed": true
   },
   "outputs": [],
   "source": [
    "'''\n",
    "senior_citizen = True\n",
    "income = 52000\n",
    "\n",
    "if senior_citizen == False:\n",
    "    if income > 40000:\n",
    "        print('Give $200')\n",
    "    else:\n",
    "        print('Give $300')\n",
    "else:\n",
    "    if income > 60000:\n",
    "        print('Give $500')\n",
    "    else:\n",
    "        print('Give $1000')\n",
    "'''\n",
    "\n",
    "\n"
   ]
  },
  {
   "cell_type": "markdown",
   "metadata": {},
   "source": [
    "#### YOUTUBE INFLUENCER BONUS\n",
    "- As part of a campaign to support healthy living, the YouTube influencer management team wants to give a special bonus to influencer who posted videos which support healthy living. The bonus are as follow:\n",
    "    - Channels with 50,000 views or less get \\$0.01/view\n",
    "    - Channels with more than 50,000 views get \\$0.01/view in the first 50,000 views and \\$0.10/view for subsequent views.\n",
    "- Roy is a YouTube influencer and has the following stats:\n",
    "    - has_healthy_living_video = True\n",
    "    - channel_views = 85000\n",
    "- Use a nested decision to calculate how much bonus Roy should get"
   ]
  },
  {
   "cell_type": "code",
   "execution_count": 21,
   "metadata": {},
   "outputs": [
    {
     "name": "stdout",
     "output_type": "stream",
     "text": [
      "You will get a bonus of: 4000.0\n"
     ]
    }
   ],
   "source": [
    "has_healthy_living_video = True\n",
    "channel_views = 85000\n",
    "\n"
   ]
  },
  {
   "cell_type": "markdown",
   "metadata": {},
   "source": [
    "#### TRY EXCEPT\n",
    "One of the common thing we do in data analytics/science is to convert data types during “data cleaning”. The following codes will give an error, write a try-except code to catch this error:"
   ]
  },
  {
   "cell_type": "code",
   "execution_count": 22,
   "metadata": {},
   "outputs": [
    {
     "name": "stdout",
     "output_type": "stream",
     "text": [
      "There is some error in the data cleaning code!\n"
     ]
    }
   ],
   "source": [
    "'''\n",
    "views = 'one hundred and ten'\n",
    "views = int(views)\n",
    "'''\n",
    "\n",
    "try:\n",
    "    views = 'one hundred and ten'\n",
    "    views = int(views)\n",
    "    print(\"There is a total view of: \" + str(views))\n",
    "    \n",
    "except:\n",
    "    print(\"There is some error in the data cleaning code!\")"
   ]
  },
  {
   "cell_type": "markdown",
   "metadata": {},
   "source": [
    "<h2>Collections: Lists, Tuples & Collections</h2>"
   ]
  },
  {
   "cell_type": "markdown",
   "metadata": {},
   "source": [
    "#### LIST METHODS"
   ]
  },
  {
   "cell_type": "code",
   "execution_count": null,
   "metadata": {
    "collapsed": true
   },
   "outputs": [],
   "source": [
    "test_list = [1,['a','b','c'],3,4]\n",
    "#add new item to the back of the list\n",
    "#test_list.append(5)\n",
    "\n",
    "#merge two list or insert multiple items into list\n",
    "#test_list.extend([5,6])\n",
    "\n",
    "#retrieve the 3rd item in the list\n",
    "#test_list[2]\n",
    "\n",
    "#retrieve the 2nd item in the nested list\n",
    "#test_list[1][1]\n",
    "\n",
    "#remove the item with value 1\n",
    "#test_list.remove(1)\n",
    "\n",
    "#remove the 3rd item in the list\n",
    "#del test_list[2]\n",
    "\n",
    "#remove and return the 2nd item in the list\n",
    "#test_list.pop(1)\n",
    "\n",
    "#retrieve the number of items in the list\n",
    "#len(test_list)"
   ]
  },
  {
   "cell_type": "markdown",
   "metadata": {},
   "source": [
    "#### UN-NESTING THE NESTED\n",
    "Given the following nested list, make use of the list index to output all the names within the list"
   ]
  },
  {
   "cell_type": "code",
   "execution_count": null,
   "metadata": {
    "collapsed": true
   },
   "outputs": [],
   "source": [
    "youtube_videos = [[1,'despacito',15000], [2,'see_you_again',5000], [3,'im_yours',3000]]\n",
    "\n"
   ]
  },
  {
   "cell_type": "markdown",
   "metadata": {},
   "source": [
    "#### VIDEO VIEW LOOKUP APP\n",
    "Suppose you have 2 list that contain titles and views of three videos respectively, how can we retrieve the video views for ‘im_yours’? (hint: index function)"
   ]
  },
  {
   "cell_type": "code",
   "execution_count": null,
   "metadata": {
    "collapsed": true
   },
   "outputs": [],
   "source": [
    "video_views = [15000,5000,3000]\n",
    "video_titles = ['despacito','see_you_again','im_yours']\n",
    "\n"
   ]
  },
  {
   "cell_type": "markdown",
   "metadata": {},
   "source": [
    "#### FUNCTIONS OF DICTIONARY"
   ]
  },
  {
   "cell_type": "code",
   "execution_count": null,
   "metadata": {
    "collapsed": true
   },
   "outputs": [],
   "source": [
    "stock_prices = {'Apple':94.34,'Facebook':39.28,'Google':154.67}\n",
    "#retrieve the value of an item base on its key\n",
    "stock_prices['Apple']\n",
    "#retrieve a list of keys\n",
    "stock_prices.keys()\n",
    "#check if a key exist in a dictionary\n",
    "'Alibaba' in stock_prices\n",
    "#add new item to the dictionary\n",
    "stock_prices['Alibaba'] =101.22\n",
    "#update an item in the dictionary\n",
    "stock_prices['Facebook'] = 42.5"
   ]
  },
  {
   "cell_type": "markdown",
   "metadata": {},
   "source": [
    "#### EXTRACTING LIST FROM DICTIONARY\n",
    "Given the following list of historical three days video views data of two videos, find the average views per month of each videos:"
   ]
  },
  {
   "cell_type": "code",
   "execution_count": null,
   "metadata": {
    "collapsed": true
   },
   "outputs": [],
   "source": [
    "hist_video_views = {'despacito':[15000,9800,10100],'im_yours':[2500,1400,14100]} \n"
   ]
  },
  {
   "cell_type": "markdown",
   "metadata": {},
   "source": [
    "<h2> CHEATSHEET FOR COLLECTIONS </h2>\n"
   ]
  },
  {
   "cell_type": "markdown",
   "metadata": {},
   "source": [
    "## There are 3 main collection type in python\n",
    "They are: List, tuples (kinda like an immutable list), and dictionary\n",
    "The way for creating the them are as shown:"
   ]
  },
  {
   "cell_type": "code",
   "execution_count": 17,
   "metadata": {},
   "outputs": [
    {
     "name": "stdout",
     "output_type": "stream",
     "text": [
      "Empty List 1:  []\n",
      "Empty List 2:  []\n",
      "Populated List:  [10, 20, 30, 40, 50]\n",
      "\n",
      "\n",
      "Empty Tuple 1:  ()\n",
      "Empty Tuple 2:  ()\n",
      "Populated Tuple:  (10, 20, 30, 40, 50)\n",
      "*Note: Creating an empty tuple is silly though cause you can't append new elements to it!\n",
      "\n",
      "\n",
      "Empty dictionary:  {}\n",
      "Populated Dictionary:  {'name': 'john', 'age': 100, 'salary': 20000}\n"
     ]
    }
   ],
   "source": [
    "'''Method for creating new lists!!'''\n",
    "\n",
    "#First way to create an empty list\n",
    "new_empty_list = []\n",
    "print('Empty List 1: ',new_empty_list)\n",
    "\n",
    "#Second way to create an empty list\n",
    "another_new_empty_list = list()\n",
    "print('Empty List 2: ',another_new_empty_list)\n",
    "\n",
    "#Only way to create a list populated with data\n",
    "new_filled_list = [10,20,30,40,50]\n",
    "print('Populated List: ',new_filled_list)\n",
    "\n",
    "\n",
    "print(\"\\n\")\n",
    "\n",
    "\n",
    "'''Method for creating new tuple!!'''\n",
    "\n",
    "#First way to create an empty tuple\n",
    "new_empty_tuple = ()\n",
    "print('Empty Tuple 1: ',new_empty_tuple)\n",
    "\n",
    "#Second way to create an empty list\n",
    "another_new_empty_tuple = tuple()\n",
    "print('Empty Tuple 2: ',another_new_empty_tuple)\n",
    "\n",
    "#Only way to create a tuple populated with data\n",
    "new_filled_tuple = (10,20,30,40,50)\n",
    "print('Populated Tuple: ',new_filled_tuple)\n",
    "print(\"*Note: Creating an empty tuple is silly though cause you can't append new elements to it!\")\n",
    "\n",
    "\n",
    "print(\"\\n\")\n",
    "\n",
    "\n",
    "'''Method for creating new dictionary!!'''\n",
    "\n",
    "#The way to create an empty dictionary\n",
    "new_empty_dictionary = {}\n",
    "print('Empty dictionary: ',new_empty_dictionary)\n",
    "\n",
    "#Only way to create a dictionary populated with data\n",
    "new_filled_dictionary = {'name':'john', 'age': 100, 'salary': 20000}\n",
    "print('Populated Dictionary: ',new_filled_dictionary)"
   ]
  },
  {
   "cell_type": "markdown",
   "metadata": {},
   "source": [
    "<b>The way to append data to them are as follows: </b>"
   ]
  },
  {
   "cell_type": "code",
   "execution_count": 1,
   "metadata": {},
   "outputs": [
    {
     "name": "stdout",
     "output_type": "stream",
     "text": [
      "Append one at a time:  [10]\n",
      "Append list:  [10, [10, 20]]\n",
      "Add one through extend:  [10]\n",
      "Add multiple through extend:  [10, 20, 30]\n",
      "\n",
      "\n",
      "There are no methods to append new elements to tuple cause its immutable\n",
      "\n",
      "\n",
      "Append new item to dictionary:  {'Name': 'John', 'Age': 27}\n"
     ]
    }
   ],
   "source": [
    "'''Methods for append to list'''\n",
    "\n",
    "#Appends allows me to only add one element at a time\n",
    "new_empty_list = []\n",
    "new_empty_list.append(10)\n",
    "print(\"Append one at a time: \", new_empty_list)\n",
    "\n",
    "#This holds true even if we append a list with multiple values as the list is considererd as one element\n",
    "new_empty_list.append([10,20])\n",
    "print(\"Append list: \",new_empty_list)\n",
    "\n",
    "#Another way to add one or multiple items to a list\n",
    "new_empty_list = []\n",
    "\n",
    "#This adds only one new element to a list\n",
    "new_empty_list.extend([10])\n",
    "print(\"Add one through extend: \",new_empty_list)\n",
    "\n",
    "#This adds multiple element at one time to a list\n",
    "new_empty_list.extend([20,30])\n",
    "print(\"Add multiple through extend: \", new_empty_list)\n",
    "\n",
    "\n",
    "print(\"\\n\")\n",
    "\n",
    "\n",
    "'''Methods for append to tuple'''\n",
    "print(\"There are no methods to append new elements to tuple cause its immutable\")\n",
    "\n",
    "\n",
    "print(\"\\n\")\n",
    "\n",
    "\n",
    "'''Methods for append to dictionary'''\n",
    "#To add a new item to a dictionary\n",
    "new_empty_dictionary = {}\n",
    "new_empty_dictionary['Name'] = 'John'\n",
    "new_empty_dictionary['Age'] = 27\n",
    "print(\"Append new item to dictionary: \",new_empty_dictionary)"
   ]
  },
  {
   "cell_type": "markdown",
   "metadata": {},
   "source": [
    "<b>The way to update the data within them are as follows: </b>"
   ]
  },
  {
   "cell_type": "code",
   "execution_count": 38,
   "metadata": {},
   "outputs": [
    {
     "name": "stdout",
     "output_type": "stream",
     "text": [
      "Changing a list:  [10, 100, 30, 40]\n",
      "Changing a list:  [[10, 100], [30, 40]]\n",
      "\n",
      "\n",
      "There are no methods to update tuple cause its immutable\n",
      "\n",
      "\n",
      "Changing a dictionary:  {'Name': 'John Tan', 'Age': 27}\n",
      "\n",
      "\n",
      "Changing a list of dictionary:  [{'name': 'Avery', 'age': 78}, {'name': 'anson', 'age': 18}]\n",
      "Changing a dictionary of list:  {'names': ['Avery', 'anson'], 'age': [78, 18]}\n"
     ]
    }
   ],
   "source": [
    "'''Methods for updating a list'''\n",
    "\n",
    "#We make use of the index property of list to update a data\n",
    "new_list = [10,20,30,40]\n",
    "new_list[1] = 100\n",
    "print(\"Changing a list: \", new_list)\n",
    "\n",
    "#The same principle applies even when its a nested list\n",
    "#We simply add another square bracket to indicate the position within the inner list\n",
    "new_list = [[10,20],[30,40]]\n",
    "#The first bracket indicates that we want the first list\n",
    "#The second bracket indicates that we want the second element of the first list\n",
    "new_list[0][1] = 100 \n",
    "print(\"Changing a list: \", new_list)\n",
    "\n",
    "\n",
    "print(\"\\n\")\n",
    "\n",
    "\n",
    "'''Methods for updating tuple'''\n",
    "print(\"There are no methods to update tuple cause its immutable\")\n",
    "\n",
    "\n",
    "print(\"\\n\")\n",
    "new_dict = {'Name': 'John', 'Age': 27}\n",
    "#Recognise that the way for updating a value in the dictionary is the same as when you add a new entry\n",
    "#When you do the following the dict will check whether the key exists, if it doesn't it will create a \n",
    "#new entry, else if it exists it will update the value\n",
    "#In fact, also observe that the way of assigning value to dictionary is almost same as a list,\n",
    "#Except that the list takes in a numerical number and the dict takes in the key\n",
    "new_dict['Name'] = 'John Tan'\n",
    "print(\"Changing a dictionary: \", new_dict)\n",
    "\n",
    "\n",
    "\n",
    "print(\"\\n\")\n",
    "\n",
    "\n",
    "\n",
    "'''Methods for updating nested data types'''\n",
    "\n",
    "list_of_dict = [{'name':'john', 'age':78},{'name':'anson', 'age':18}]\n",
    "#The first bracket returns us the dictionary in the position 0\n",
    "#The second bracket returns the handle of the value corresponding to name key in the dictionary\n",
    "#After that we assign Avery to replace the data in that position\n",
    "list_of_dict[0]['name'] = 'Avery'\n",
    "print(\"Changing a list of dictionary: \",list_of_dict)\n",
    "\n",
    "\n",
    "dict_of_list = {'names':['john', 'anson'],'age':[78, 18]}\n",
    "#The first bracket returns us the name list\n",
    "#The second bracket returns the handle corresponding to position 1 of the returned list\n",
    "#After that we assign Avery to replace the data in that position\n",
    "dict_of_list['names'][0] = 'Avery'\n",
    "print(\"Changing a dictionary of list: \",dict_of_list)"
   ]
  },
  {
   "cell_type": "markdown",
   "metadata": {},
   "source": [
    "<b>Finally, the way to access them are as follows</b>"
   ]
  },
  {
   "cell_type": "code",
   "execution_count": 49,
   "metadata": {},
   "outputs": [
    {
     "name": "stdout",
     "output_type": "stream",
     "text": [
      "40 , <class 'int'>\n",
      "\n",
      "\n",
      "40 , <class 'int'>\n",
      "\n",
      "\n",
      "john , <class 'str'>\n",
      "\n",
      "\n",
      "john , <class 'str'>\n",
      "john , <class 'str'>\n",
      "ansonage is: 18\n",
      "ansonage is: 18\n"
     ]
    }
   ],
   "source": [
    "'''Methods to access elements in a list'''\n",
    "\n",
    "#To access a single level list\n",
    "new_list = [10,20,30,40,50]\n",
    "data = new_list[3]\n",
    "print(data, ',', type(data))\n",
    "\n",
    "\n",
    "print(\"\\n\")\n",
    "\n",
    "\n",
    "'''Methods to access elements in a tuple'''\n",
    "\n",
    "#To access a single level list\n",
    "new_tuple = (10,20,30,40,50)\n",
    "data = new_tuple[3]\n",
    "print(data, ',', type(data))\n",
    "\n",
    "\n",
    "print(\"\\n\")\n",
    "\n",
    "\n",
    "'''Methods to access elements in a dictionary'''\n",
    "\n",
    "#To access a single level list\n",
    "new_dict = {'name':'john', 'age':28}\n",
    "data = new_dict['name']\n",
    "print(data, ',', type(data))\n",
    "\n",
    "\n",
    "print(\"\\n\")\n",
    "\n",
    "\n",
    "'''Methods to access elements in a nested collections'''\n",
    "list_dict = [{'name':'john', 'age':78},{'name':'anson', 'age':18}]\n",
    "data = list_dict[0]['name']\n",
    "print(data, ',', type(data))\n",
    "\n",
    "dict_list = {'names':['john', 'anson'],'age':[78, 18]}\n",
    "data = dict_list['names'][0]\n",
    "print(data, ',', type(data))\n",
    "\n",
    "#Getting name and age from first collection type\n",
    "name_and_age = list_dict[1]['name'] + 'age is: ' +str(list_dict[1]['age'])\n",
    "print(name_and_age)\n",
    "\n",
    "\n",
    "#Getting name and age from second collection type\n",
    "name_and_age = dict_list['names'][1] + 'age is: ' +str(dict_list['age'][1])\n",
    "print(name_and_age)"
   ]
  },
  {
   "cell_type": "code",
   "execution_count": null,
   "metadata": {
    "collapsed": true
   },
   "outputs": [],
   "source": []
  }
 ],
 "metadata": {
  "kernelspec": {
   "display_name": "Python 3",
   "language": "python",
   "name": "python3"
  },
  "language_info": {
   "codemirror_mode": {
    "name": "ipython",
    "version": 3
   },
   "file_extension": ".py",
   "mimetype": "text/x-python",
   "name": "python",
   "nbconvert_exporter": "python",
   "pygments_lexer": "ipython3",
   "version": "3.6.3"
  }
 },
 "nbformat": 4,
 "nbformat_minor": 2
}
