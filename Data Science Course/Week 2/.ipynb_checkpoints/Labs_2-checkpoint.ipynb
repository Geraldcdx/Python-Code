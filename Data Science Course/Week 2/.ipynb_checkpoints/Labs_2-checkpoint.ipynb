{
 "cells": [
  {
   "cell_type": "markdown",
   "metadata": {},
   "source": [
    "# Lab 2\n",
    "\n",
    "Right now, you are a data analyst at Youtube. You're working with a team to answer some simple analytics questions that Youtube has. Due to some bad code written previously by an intern, it is now your job to clean up the mistakes. At the same time, some old data has made its way into the production environment, and it is within your job scope to sift those out as well.\n",
    "\n",
    "The following shows a snippet of code that an intern has written previously, and the definitions for each of the key-value pairs are described as per below.\n",
    "\n",
    "| title        | company           | views  | \n",
    "| :----------- |:----------------- | :----- | \n",
    "| Title of the video ad      | Company name | Number of video views |\n",
    "\n",
    "**Remember to run the code snippet below with `CTRL-ENTER` or by clicking the run button above to initialise the variables.**\n"
   ]
  },
  {
   "cell_type": "code",
   "execution_count": 2,
   "metadata": {
    "collapsed": true
   },
   "outputs": [],
   "source": [
    "video_ad_1 = {\"title\": \"Healthy Living\", \"company\": \"Health Promotion Board\", \"views\": 15934}\n",
    "video_ad_2 = {\"title\": \"Get a ride, anytime anywhere\", \"company\": \"Uber\", \"views\": 923834}\n",
    "video_ad_3 = {\"title\": \"Send money to your friends with GrabPay\", \"company\": \"Grab\", \"views\": 23466}\n",
    "video_ad_4 = {\"title\": \"Ubereats now delivers nationwide\", \"company\": \"Uber\", \"views\": 1337}\n",
    "video_ad_5 = {\"title\": \"Get cabs now with UberFlash\", \"company\": \"Uber\", \"views\": 90234}"
   ]
  },
  {
   "cell_type": "markdown",
   "metadata": {},
   "source": [
    "## Part 1\n",
    "\n",
    "Find and print out the total views of all the videos provided above. You are to use index key method of the dictionaries to extract the data and aggregate total views.\n",
    "\n",
    "Make sure you **do not hard-code the answers**\n",
    "\n",
    "**Example of hard-coding:**\n",
    "```python\n",
    "# This is hard-coding, and should not be done\n",
    "print(15934 + 923834 + 23466 + 1337 + 90234)\n",
    "```\n",
    "\n",
    "**Example output:**\n",
    "```python\n",
    "298231\n",
    "```"
   ]
  },
  {
   "cell_type": "code",
   "execution_count": 5,
   "metadata": {},
   "outputs": [
    {
     "name": "stdout",
     "output_type": "stream",
     "text": [
      "1054805\n"
     ]
    }
   ],
   "source": [
    "print(video_ad_1['views']+video_ad_2['views']+video_ad_3['views']+video_ad_4['views']+video_ad_5['views'])"
   ]
  },
  {
   "cell_type": "markdown",
   "metadata": {},
   "source": [
    "## Part 2\n",
    "\n",
    "**The current database is not streamlined. Create a NEW dictionary that stores the total views of videos for each unique company**, and print the dictionary. You are to use the key-value pair of the dictionaries to access the data, and to add up the total views.\n",
    "\n",
    "Make sure you **do not hard-code the answers**\n",
    "\n",
    "**Example of hard-coding:**\n",
    "```python\n",
    "# This is hard-coding, and should not be done\n",
    "views_dict = {}\n",
    "views_dict = {\"Health Promotion Board\": 15934, \"Uber\": 923834 + 1337 + 90234, \"Grab\": 23466}\n",
    "print(views_dict)\n",
    "\n",
    "# The above will give you the right answer, but that is not how we want you to do it\n",
    "# In the above method, if the data in the original dictionary is changed, that means we have to change \n",
    "# our calculations. We want our method to be dynamic!\n",
    "```\n",
    "\n",
    "**Example output:**\n",
    "```python\n",
    "{\"Health Promotion Board\": 15934, \"Uber\": 1015405, \"Grab\": 23466}\n",
    "```\n",
    "\n",
    "**Hint:**\n",
    "```python\n",
    "views_dict = {}\n",
    "views_dict[\"Uber\"] = video_ad_2[\"views\"] + ... + ...\n",
    "print(views_dict)\n",
    "```\n"
   ]
  },
  {
   "cell_type": "code",
   "execution_count": 12,
   "metadata": {},
   "outputs": [
    {
     "name": "stdout",
     "output_type": "stream",
     "text": [
      "{'Uber': 1038871, 'Health Promotion Board': 15934}\n"
     ]
    }
   ],
   "source": [
    "views={}\n",
    "#video_ad_1\n",
    "views[\"Uber\"]=video_ad_2[\"views\"]+video_ad_3[\"views\"]+video_ad_4[\"views\"]+video_ad_5[\"views\"]\n",
    "views[\"Health Promotion Board\"]=video_ad_1[\"views\"]\n",
    "print(views)"
   ]
  },
  {
   "cell_type": "markdown",
   "metadata": {},
   "source": [
    "## Part 3\n",
    "\n",
    "The following represents a list of dictionaries. Each dictionary represents a video advertisement and its respective view numbers. Unfortunately, these advertisements are more than a year old, and Youtube is not interested in performing analysis for these older videos.\n",
    "\n",
    "Your task is to remove the 2 old videos from the variable `video_ads_list` by the use of the `remove` function, and to print out the resulting `video_ads_list` variable.\n",
    "\n",
    "Make sure you **do not hard-code the answers**\n",
    "\n",
    "**Example of hard-coding:**\n",
    "```python\n",
    "# This is hard-coding, and should not be done\n",
    "video_ads_list = []\n",
    "print(video_ads_list)\n",
    "```\n",
    "\n",
    "**Example output:**\n",
    "```python\n",
    "[]\n",
    "```"
   ]
  },
  {
   "cell_type": "code",
   "execution_count": 18,
   "metadata": {},
   "outputs": [
    {
     "name": "stdout",
     "output_type": "stream",
     "text": [
      "[]\n"
     ]
    }
   ],
   "source": [
    "video_ads_list = [\n",
    "    {\"title\": \"Get the newest iPhone 6\", \"company\": \"Apple\", \"views\": 389824},\n",
    "    {\"title\": \"Samsung Galaxy S2 out now!\", \"company\": \"Saumsung\", \"views\": 230123}\n",
    "]\n",
    "\n",
    "# write some code below to show us how you would clean out this list with the use of remove\n",
    "del video_ads_list[0]\n",
    "video_ads_list.pop(0)\n",
    "print(video_ads_list)"
   ]
  },
  {
   "cell_type": "markdown",
   "metadata": {},
   "source": [
    "## Part 4\n",
    "\n",
    "After cleaning out the above `video_ads_list` list, now we want to add in the newer videos in the variables declared in part 1 e.g. `video_ad_1`, `video_ad_2` etc...\n",
    "\n",
    "Your task is to add all the newer videos into the variable `video_ads_list` by the use of the `append` function, and to print out the resulting `video_ads_list` variable.\n",
    "\n",
    "Make sure you **do not hard-code the answers**\n",
    "\n",
    "**Example of hard-coding:**\n",
    "```python\n",
    "# This is hard-coding, and should not be done\n",
    "video_ads_list = [\n",
    "    {\"title\": \"Healthy Living\", \"company\": \"Health Promotion Board\", \"views\": 15934}, \n",
    "    {\"title\": \"Get a ride, anytime anywhere\", \"company\": \"Uber\", \"views\": 923834}\n",
    "]\n",
    "print(video_ads_list)\n",
    "```\n",
    "\n",
    "**Example output:**\n",
    "```python\n",
    "[]\n",
    "```"
   ]
  },
  {
   "cell_type": "code",
   "execution_count": 32,
   "metadata": {},
   "outputs": [
    {
     "name": "stdout",
     "output_type": "stream",
     "text": [
      "[{'title': 'Healthy Living', 'company': 'Health Promotion Board', 'views': 15934}, {'title': 'Get a ride, anytime anywhere', 'company': 'Uber', 'views': 923834}, {'title': 'Send money to your friends with GrabPay', 'company': 'Grab', 'views': 23466}, {'title': 'Ubereats now delivers nationwide', 'company': 'Uber', 'views': 1337}, {'title': 'Get cabs now with UberFlash', 'company': 'Uber', 'views': 90234}]\n"
     ]
    }
   ],
   "source": [
    "video_ads_list=[]\n",
    "video_ads_list.append(video_ad_1)\n",
    "video_ads_list.append(video_ad_2)\n",
    "video_ads_list.append(video_ad_3)\n",
    "video_ads_list.append(video_ad_4)\n",
    "video_ads_list.append(video_ad_5)\n",
    "print(video_ads_list)\n"
   ]
  },
  {
   "cell_type": "markdown",
   "metadata": {},
   "source": [
    "## Part 5\n",
    "\n",
    "After having created a list of videos to be stored inside of `video_ads_list`, we want to finalise the videos stored inside of the list, we want to pass the data to another data analyst, and prevent future newbies from altering the list of video ads.\n",
    "\n",
    "Based on your understanding, you know that tuples are able to store immutable data. This means that you cannot modify the data stored inside of tuples. As such, you intend to store a **tuple filled with the videos** instead.\n",
    "\n",
    "Your task is to add all the videos printed earlier into a tuple variable `video_ads` and to print out the resulting `video_ads` variable. In order to do this, you have no choice but to hard-code the answer.\n",
    "\n",
    "**Example of how to proceed:**\n",
    "```python\n",
    "video_ads = (\n",
    "    {\"title\": \"Healthy Living\", \"company\": \"Health Promotion Board\", \"views\": 15934}, \n",
    "    {\"title\": \"Get a ride, anytime anywhere\", \"company\": \"Uber\", \"views\": 923834}\n",
    ")\n",
    "print(video_ads)\n",
    "```\n",
    "\n",
    "**Example output:**\n",
    "```python\n",
    "({\"title\": \"Healthy Living\", \"company\": \"Health Promotion Board\", \"views\": 15934}, {\"title\": \"Get a ride, anytime anywhere\", \"company\": \"Uber\", \"views\": 923834})\n",
    "```\n",
    "\n",
    "The reason why you have to hard-code this answer is primarily because tuples are immutable. Once you create the tuple, there's no way to add or remove from the tuple."
   ]
  },
  {
   "cell_type": "code",
   "execution_count": 34,
   "metadata": {},
   "outputs": [
    {
     "name": "stdout",
     "output_type": "stream",
     "text": [
      "({'title': 'Healthy Living', 'company': 'Health Promotion Board', 'views': 15934}, {'title': 'Get a ride, anytime anywhere', 'company': 'Uber', 'views': 923834}, {'title': 'Send money to your friends with GrabPay', 'company': 'Grab', 'views': 23466}, {'title': 'Ubereats now delivers nationwide', 'company': 'Uber', 'views': 1337}, {'title': 'Get cabs now with UberFlash', 'company': 'Uber', 'views': 90234})\n"
     ]
    }
   ],
   "source": [
    "video_ads=({\"title\": \"Healthy Living\", \"company\": \"Health Promotion Board\", \"views\": 15934},\n",
    "{\"title\": \"Get a ride, anytime anywhere\", \"company\": \"Uber\", \"views\": 923834},\n",
    "{\"title\": \"Send money to your friends with GrabPay\", \"company\": \"Grab\", \"views\": 23466},\n",
    "{\"title\": \"Ubereats now delivers nationwide\", \"company\": \"Uber\", \"views\": 1337},\n",
    "{\"title\": \"Get cabs now with UberFlash\", \"company\": \"Uber\", \"views\": 90234}\n",
    "          )\n",
    "print(video_ads)"
   ]
  },
  {
   "cell_type": "markdown",
   "metadata": {},
   "source": [
    "## Part 6\n",
    "After having created a tuple variable `video_ads`, we want to find out how much we should be paying advertisers for each video. After calculating the today fee we \n",
    "\n",
    "**Here are the rules for the payment model:**\n",
    "\n",
    "- If there are fewer than 10,000 views, each view is charged at \\$0.82 each\n",
    "- If there are fewer than 50,000 views but more than or equal to 10,000 views, each view is charged at \\$0.68 each\n",
    "- If there are more than or equal to 50,000 views, each view is charged at \\$0.55 each\n",
    "\n",
    "Make use of `if-elif-else` conditions to solve this problem, and get the final amount paid for each video.\n",
    "\n",
    "**Example output:**\n",
    "```\n",
    "Healthy Living: $1532.83\n",
    "Get a ride, anytime anywhere: $3339.23\n",
    "```"
   ]
  },
  {
   "cell_type": "code",
   "execution_count": 52,
   "metadata": {},
   "outputs": [
    {
     "name": "stdout",
     "output_type": "stream",
     "text": [
      "Healthy Living 10835.12\n",
      "Get a ride, anytime anywhere 508108.70\n",
      "Send money to your friends with GrabPay 15956.88\n",
      "Ubereats now delivers nationwide 1096.34\n",
      "Get cabs now with UberFlash 49628.70\n"
     ]
    }
   ],
   "source": [
    "for x in range(5):\n",
    "    views=(video_ads[x]['views'])\n",
    "    if(views<10000):\n",
    "        print((video_ads[x]['title'])+\" \"+str(\"{:.2f}\".format(views*0.82)))\n",
    "    elif(views<50000):\n",
    "        print((video_ads[x]['title'])+\" \"+str(\"{:.2f}\".format(views*0.68)))\n",
    "    else:\n",
    "        print((video_ads[x]['title'])+\" \"+str(\"{:.2f}\".format(views*0.55)))"
   ]
  },
  {
   "cell_type": "markdown",
   "metadata": {},
   "source": [
    "<h2>Additional Consolidation Questions</h2>\n",
    "<p>The following are additional questions that serves to strength your understanding in handling data from nested collections. The following collection structure are some of the common ways which people use to store their data for processing later on. </p>\n"
   ]
  },
  {
   "cell_type": "code",
   "execution_count": 60,
   "metadata": {},
   "outputs": [
    {
     "name": "stdout",
     "output_type": "stream",
     "text": [
      "Marissa Meyer has the salary of 9320809\n",
      "['Marissa Meyer', 'COO', 78973930]\n",
      "[['Rick Jones', 'Software Engineer', 909802], ['Marissa Meyer', 'COO', 78973930], ['Avril Tan', 'None', 0]]\n",
      "[['Rick Jones', 'Software Engineer', 909802, 20], ['Marissa Meyer', 'COO', 78973930, 45], ['Avril Tan', 'None', 0, 55]]\n"
     ]
    }
   ],
   "source": [
    "#Nested list data\n",
    "linked_data = [['Rick Jones', 'Software Engineer', 909802],\n",
    "               ['Marissa Meyer', 'COO', 9320809],\n",
    "               ['Avril Ting', 'MD', 932846]]\n",
    "\n",
    "\n",
    "#Question 1a: Extract Marissa's salary and print her name + salary\n",
    "#Expected output: Marissa Meyer has a salary of 9320809\n",
    "#Type your code below\n",
    "print(linked_data[1][0]+\" has the salary of \"+str(linked_data[1][2]))\n",
    "#Question 1b: Change Marissa's salary in linked_data to 78973930 & print out her data\n",
    "#Expected output: ['Marissa Meyer', 'COO', 78973930]\n",
    "#Type your code below\n",
    "linked_data[1][2]=78973930\n",
    "print(linked_data[1])\n",
    "#Question 1c: Replace Avril Ting's entire data with the following ['Avril Tan', 'None', 0] & print the linkedin_data \n",
    "#Expected output: linked_data = [['Rick Jones', 'Software Engineer', 909802],\n",
    "#                                ['Marissa Meyer', 'COO', 9320809],\n",
    "#                                ['Avril Tan', 'None', 0]]\n",
    "#Type your code below\n",
    "linked_data[2][0]='Avril Tan'\n",
    "linked_data[2][1]='None'\n",
    "linked_data[2][2]=0\n",
    "print(linked_data)\n",
    "#Question 1d: Add age data using the index method & print the linkedin_data\n",
    "# Age of the three person respectively: 20, 45, 55\n",
    "# Hint: Remember the_list[0] = 1000?\n",
    "#Expected output: linked_data = [['Rick Jones', 'Software Engineer', 909802, 20],\n",
    "#                                ['Marissa Meyer', 'COO', 9320809, 45],\n",
    "#                                ['Avril Tan', 'None', 0, 55]]\n",
    "#Type your code below\n",
    "linked_data[0].append(20)\n",
    "linked_data[1].append(45)\n",
    "linked_data[2].append(55)\n",
    "print(linked_data)"
   ]
  },
  {
   "cell_type": "code",
   "execution_count": 71,
   "metadata": {},
   "outputs": [
    {
     "name": "stdout",
     "output_type": "stream",
     "text": [
      "Marissa Meyer has a salary of $9320809\n",
      "{'Name': 'Marissa Meyer', 'Job': 'COO', 'Salary': 78973930}\n",
      "[{'Name': 'Rick Jones', 'Job': 'Software Engineer', 'Salary': 909802}, {'Name': 'Marissa Meyer', 'Job': 'COO', 'Salary': 78973930}, {'Name': 'Avril Ting', 'Job': 'None', 'Salary': 0}]\n",
      "[{'Name': 'Rick Jones', 'Job': 'Software Engineer', 'Salary': 909802, 'age': 20}, {'Name': 'Marissa Meyer', 'Job': 'COO', 'Salary': 78973930, 'age': 45}, {'Name': 'Avril Ting', 'Job': 'None', 'Salary': 0, 'age': 55}]\n"
     ]
    }
   ],
   "source": [
    "#Nested list of dictionary data\n",
    "linked_data = [{'Name':'Rick Jones', 'Job':'Software Engineer', 'Salary':909802},\n",
    "               {'Name':'Marissa Meyer', 'Job':'COO', 'Salary':9320809},\n",
    "               {'Name':'Avril Ting', 'Job':'MD', 'Salary':932846}]\n",
    "#Question 2a: Extract Marissa's salary and print her name + salary\n",
    "#Expected output: Marissa Meyer has a salary of 9320809\n",
    "#Type your code below\n",
    "print(linked_data[1]['Name'] + \" has a salary of $\"+ str(linked_data[1]['Salary']))\n",
    "#Question 2b: Change Marissa's salary in linked_data to 78973930 & print out her data\n",
    "#Expected output: {'Name':'Marissa Meyer', 'Job':'COO', 'Salary':78973930}\n",
    "#Type your code below\n",
    "linked_data[1]['Salary']=78973930\n",
    "print(linked_data[1])\n",
    "#Question 2c: Replace Avril Ting's entire data with the following {'Name':'Avril Ting', 'Job':'None', 'Salary':0} & print the linkedin_data \n",
    "#Expected output: linked_data = [{'Name':'Rick Jones', 'Job':'Software Engineer', 'Salary':909802},\n",
    "#                                {'Name':'Marissa Meyer', 'Job':'COO', 'Salary':9320809},\n",
    "#                                {'Name':'Avril Ting', 'Job':'None', 'Salary':0}]\n",
    "#Type your code below\n",
    "linked_data[2]['Job']='None'\n",
    "linked_data[2]['Salary']=0\n",
    "print(linked_data)\n",
    "#Question 2d: Add age data using the index method & print the linkedin_data\n",
    "# Age of the three person respectively: 20, 45, 55\n",
    "# Hint: Remember dict['key'] = 1000?\n",
    "#Expected output: linked_data = [{'Name':'Rick Jones', 'Job':'Software Engineer', 'Salary':909802, 'age':20},\n",
    "#                                {'Name':'Marissa Meyer', 'Job':'COO', 'Salary':9320809, 'age':45},\n",
    "#                                {'Name':'Avril Ting', 'Job':'None', 'Salary':0, 'age':55}]\n",
    "#Type your code below\n",
    "linked_data[0]['age']=20\n",
    "linked_data[1]['age']=45\n",
    "linked_data[2]['age']=55\n",
    "print(linked_data)"
   ]
  },
  {
   "cell_type": "code",
   "execution_count": 77,
   "metadata": {},
   "outputs": [
    {
     "name": "stdout",
     "output_type": "stream",
     "text": [
      "Orea has a salary of 2344\n",
      "[2398, 32442]\n"
     ]
    }
   ],
   "source": [
    "#Nested list of dictionary with inner list\n",
    "#The data showcases the name of all employees of each department in the company, along with their corresponding salary\n",
    "\n",
    "Department_Employee_data= [{'Purchase': ['John', 'Avery', 'Obama'], 'Sales': ['Orea', 'Stark']},\n",
    "                           {'Purchase': [2000, 4000, 10000], 'Sales': [2344, 32442]}]\n",
    "\n",
    "#Question 3a: Extract Orea's salary and print her name + salary\n",
    "#Expected output: Orea has a salary of 2344\n",
    "#Type your code below\n",
    "print(Department_Employee_data[0]['Sales'][0] +\" has a salary of \" +str(Department_Employee_data[1]['Sales'][0]))\n",
    "\n",
    "\n",
    "#Question 3b: Change Orea's salary to 2398 and print the entire Sales department's salary\n",
    "#Expected output: [2398, 32442]\n",
    "#Type your code below\n",
    "Department_Employee_data[1]['Sales'][0]=2398\n",
    "print(Department_Employee_data[1]['Sales'])\n",
    "\n"
   ]
  }
 ],
 "metadata": {
  "kernelspec": {
   "display_name": "Python 3",
   "language": "python",
   "name": "python3"
  },
  "language_info": {
   "codemirror_mode": {
    "name": "ipython",
    "version": 3
   },
   "file_extension": ".py",
   "mimetype": "text/x-python",
   "name": "python",
   "nbconvert_exporter": "python",
   "pygments_lexer": "ipython3",
   "version": "3.6.3"
  }
 },
 "nbformat": 4,
 "nbformat_minor": 2
}
