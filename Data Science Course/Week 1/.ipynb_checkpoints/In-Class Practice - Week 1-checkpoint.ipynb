{
 "cells": [
  {
   "cell_type": "markdown",
   "metadata": {},
   "source": [
    "#### PRINT “HELLO WORLD!”*\n",
    "- Within a cell, type print(“Hello World!”) and click on the run button\n",
    "- You should see the program output “Hello World”"
   ]
  },
  {
   "cell_type": "code",
   "execution_count": 1,
   "metadata": {},
   "outputs": [
    {
     "name": "stdout",
     "output_type": "stream",
     "text": [
      "Hello World\n"
     ]
    }
   ],
   "source": [
    "print(\"Hello World\")"
   ]
  },
  {
   "cell_type": "markdown",
   "metadata": {},
   "source": [
    "#### ARITHMETIC OPERATIONS\n",
    "The following are some of the basic mathematical operations in python. Try them yourselves and we’ll go through how they work together.\n",
    "\n",
    "- print(2*3)\n",
    "- print(2**3)\n",
    "- print(8/3)\n",
    "- print(8//3)\n",
    "- print(8%2)\n",
    "- print(8%3)\n"
   ]
  },
  {
   "cell_type": "code",
   "execution_count": 4,
   "metadata": {},
   "outputs": [
    {
     "name": "stdout",
     "output_type": "stream",
     "text": [
      "6\n",
      "8\n",
      "2.6666666666666665\n",
      "2\n",
      "0\n",
      "2\n"
     ]
    }
   ],
   "source": [
    "print(2*3)\n",
    "print(2**3)\n",
    "print(8/3)\n",
    "print(8//3)\n",
    "print(8%2)\n",
    "print(8%3)"
   ]
  },
  {
   "cell_type": "markdown",
   "metadata": {},
   "source": [
    "#### YOUTUBE ENGAGEMENT RATE\n",
    "One of the common metrics used to evaluate YouTube channel success is the engagement rate (formula given below). Let’s try to declare the relevant variables and calculate the engagement rate for a YouTube channel.\n",
    "<div class=\"alert alert-block alert-info\"><center>engagement_rate = video_comments/video_views\n",
    " </center></div>"
   ]
  },
  {
   "cell_type": "code",
   "execution_count": 7,
   "metadata": {},
   "outputs": [],
   "source": [
    "video_comments=5\n",
    "video_view=5\n",
    "engagement_rate=video_comments/video_view\n"
   ]
  },
  {
   "cell_type": "markdown",
   "metadata": {},
   "source": [
    "#### STRING SLICING\n",
    "Try these:\n",
    "- print(fav_fruit[7:])\n",
    "- print(fav_fruit[-1])\n",
    "- print(fav_fruit[-4:])\n",
    "- print(fav_fruit[:-4])\n",
    "- print(fav_fruit[::-1])\n"
   ]
  },
  {
   "cell_type": "code",
   "execution_count": 12,
   "metadata": {},
   "outputs": [
    {
     "name": "stdout",
     "output_type": "stream",
     "text": [
      "orange\n",
      "e\n",
      "ange\n",
      "I love or\n",
      "egnaro evol I\n"
     ]
    }
   ],
   "source": [
    "fav_fruit = 'I love orange'\n",
    "print(fav_fruit[7:])\n",
    "print(fav_fruit[-1])\n",
    "print(fav_fruit[-4:])\n",
    "print(fav_fruit[:-4])\n",
    "print(fav_fruit[::-1])"
   ]
  },
  {
   "cell_type": "markdown",
   "metadata": {},
   "source": [
    "#### STRING CONCATENATION\n",
    "Try these:\n",
    "- print(video_tit + ‘hello world’)\n",
    "- print(video_tit + ‘video_tit’)\n",
    "- print(video_tit + video_tit[0:5]\n",
    "- print(video_tit + 5)\n",
    "- print(video_tot + str(5))"
   ]
  },
  {
   "cell_type": "code",
   "execution_count": 18,
   "metadata": {},
   "outputs": [
    {
     "name": "stdout",
     "output_type": "stream",
     "text": [
      "dota2FTWhello world\n",
      "dota2FTWvideo_tit\n",
      "dota2FTWdota2\n",
      "dota2FTW5heelo\n",
      "dota2FTW5\n"
     ]
    }
   ],
   "source": [
    "video_tit = 'dota2FTW'\n",
    "\n",
    "print(video_tit+'hello world')\n",
    "print(video_tit+'video_tit')\n",
    "print(video_tit+video_tit[0:5])\n",
    "print(video_tit+\"5\"+\"heelo\")\n",
    "print(video_tit +str(5))"
   ]
  },
  {
   "cell_type": "markdown",
   "metadata": {},
   "source": [
    "** Technique of debugging **\n",
    "* Rule 1: Set small incremental goals for your program. Don’t try and write large programs all at once. Stop and test your work often as you go by printing out the intermediate outputs. Celebrate small successes!\n",
    "\n",
    "* Rule 2: Use comment to have Python ignore certain lines that are giving you trouble\n",
    "\n",
    "* Rule 3: For large programs, use print statement to print out intermediate outputs in order to check the codes\n",
    "\n",
    "* Rule 4: Understand what kind of error you are facing, and Google for potential solutions. Usually, stackoverflow should have the answer you need!"
   ]
  },
  {
   "cell_type": "code",
   "execution_count": 31,
   "metadata": {},
   "outputs": [
    {
     "name": "stdout",
     "output_type": "stream",
     "text": [
      "The engagement rate is: 0.03333333333333333\n"
     ]
    }
   ],
   "source": [
    "#Debug the following\n",
    "video_views = 300\n",
    "video_likes = 10\n",
    "\n",
    "Engagement = video_likes / video_views\n",
    "print(\"The engagement rate is: \" + str(Engagement))\n"
   ]
  },
  {
   "cell_type": "code",
   "execution_count": 29,
   "metadata": {},
   "outputs": [
    {
     "name": "stdout",
     "output_type": "stream",
     "text": [
      "The engagement rate is 0.03333333333333333\n"
     ]
    }
   ],
   "source": [
    "video_views=300\n",
    "video_likes=10\n",
    "Engagement=video_likes/video_views\n",
    "print(\"The engagement rate is \"+str(Engagement)) "
   ]
  },
  {
   "cell_type": "code",
   "execution_count": null,
   "metadata": {
    "collapsed": true
   },
   "outputs": [],
   "source": []
  }
 ],
 "metadata": {
  "kernelspec": {
   "display_name": "Python 3",
   "language": "python",
   "name": "python3"
  },
  "language_info": {
   "codemirror_mode": {
    "name": "ipython",
    "version": 3
   },
   "file_extension": ".py",
   "mimetype": "text/x-python",
   "name": "python",
   "nbconvert_exporter": "python",
   "pygments_lexer": "ipython3",
   "version": "3.6.3"
  }
 },
 "nbformat": 4,
 "nbformat_minor": 2
}
