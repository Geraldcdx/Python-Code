{
 "cells": [
  {
   "cell_type": "code",
   "execution_count": 85,
   "metadata": {},
   "outputs": [
    {
     "name": "stdout",
     "output_type": "stream",
     "text": [
      "0\n",
      "1\n",
      "apple orange pair hello\n",
      "1\n",
      "apple orange pair hello 3 4\n",
      "apple orange pair hello 3 4 [3, 4]\n",
      "apple 2 orange pair hello 3 4 [3, 4]\n",
      "3 4\n",
      "apple 2 orange pair hello 3 4\n",
      "\n",
      "2\n",
      "[1, 2, 3, 3, 4, 4, 5]\n",
      "[2]\n",
      "1 2 3 4 4 5\n",
      "['h', 'e', 'l', 'l', 'o']\n",
      "True\n"
     ]
    }
   ],
   "source": [
    "#List\n",
    "fruit =[\"apple\",\"orange\",\"pair\"]#declare a list\n",
    "print(fruit.count('appl'))#returns 0 casue no occurence\n",
    "fruit.append(\"hello\")#appends to the end\n",
    "print(fruit.count('hello')) #returns 1 occurence\n",
    "print(*fruit)\n",
    "print(fruit.count(\"pair\"))#true or false only\n",
    "fruit.extend([3,4])\n",
    "print(*fruit)\n",
    "fruit.append([3,4])\n",
    "print(*fruit)\n",
    "fruit.insert(1,2)#inserts after position 1 the number2\n",
    "print(*fruit)\n",
    "print(*(fruit.pop()))\n",
    "print(*fruit)#becomes a stack\n",
    "fruit.remove(\"orange\")#if a rm element does not exits it will return error\n",
    "fruit.clear()#removes everything\n",
    "print(*fruit)\n",
    "fruit.extend([1,2,3,4,5,3,4])\n",
    "print(fruit.index(3,0))\n",
    "fruit.reverse()#reverses list\n",
    "fruit.sort()#sort\n",
    "print(fruit)\n",
    "fruits=fruit[1:2]\n",
    "print(fruits)\n",
    "fruit.pop(3)\n",
    "print(*fruit)\n",
    "g=\"hello\"\n",
    "h=list(g)\n",
    "print(h)\n",
    "print(\"h\" in g)"
   ]
  },
  {
   "cell_type": "code",
   "execution_count": 56,
   "metadata": {},
   "outputs": [
    {
     "name": "stdout",
     "output_type": "stream",
     "text": [
      "Gera\n",
      "1\n",
      "Ger G Gerald Chua Deng\n",
      "deque(['Ger', 'G', 'Gerald', 'Chua', 'Deng'])\n",
      "Ger\n",
      "G\n",
      "Gerald\n",
      "Chua\n",
      "Deng\n"
     ]
    }
   ],
   "source": [
    "#STACK uses .pop() .append() for stack functions\n",
    "#Deque\n",
    "from collections import deque\n",
    "Names=deque([\"Gera\",\"Ger\",\"G\"])\n",
    "print(Names.popleft())\n",
    "print(Names.count(\"G\"))\n",
    "Names.extend([\"Gerald\",\"Chua\",\"Deng\"])\n",
    "print(*Names)\n",
    "#cant use sort\n",
    "STR=Names\n",
    "print(STR)\n",
    "for x in range(len(STR)):\n",
    "    print(STR[x])\n",
    "\n"
   ]
  },
  {
   "cell_type": "code",
   "execution_count": 78,
   "metadata": {},
   "outputs": [
    {
     "name": "stdout",
     "output_type": "stream",
     "text": [
      "3.2211\n",
      "hl\n",
      "3.221\n",
      "String .%3f\n",
      "hello\n",
      "True\n"
     ]
    }
   ],
   "source": [
    "y=\"String .%3f\"\n",
    "x=\"3.2211\"\n",
    "print(x)\n",
    "name=\"hello\"\n",
    "print(name[::3])#skips the step btw[start:end:steps]\n",
    "print(format(3.2211, '.3f'))\n",
    "print(y+\"\\n\"+\"hello\")\n",
    "print(\"3\" in y)#returns true cause it exists"
   ]
  },
  {
   "cell_type": "code",
   "execution_count": 102,
   "metadata": {},
   "outputs": [
    {
     "name": "stdout",
     "output_type": "stream",
     "text": [
      "['name', 1, 1]\n",
      "['name', 1, 2]\n",
      "['name', 4, 3]\n",
      "['name', 27, 4]\n",
      "['name', 256, 5]\n",
      "bbb\n",
      "cca\n",
      "ddd\n"
     ]
    }
   ],
   "source": [
    "#Tuples\n",
    "x=(\"hello\",5,10)\n",
    "a=[]\n",
    "for y in range(5):\n",
    "    a.append([\"name\",1*y**y,1+y])\n",
    "a.sort()\n",
    "    \n",
    "for y in range(len(a)):\n",
    "    print(a[y])\n",
    "b=[\"ddd\",\"bbb\",\"cca\"]\n",
    "b.sort()\n",
    "for y in range(len(b)):\n",
    "    print(b[y])"
   ]
  },
  {
   "cell_type": "code",
   "execution_count": 104,
   "metadata": {},
   "outputs": [
    {
     "name": "stdout",
     "output_type": "stream",
     "text": [
      "Bird\n"
     ]
    }
   ],
   "source": [
    "#Dictionaries\n",
    "Names={}\n",
    "Names[3]=\"Bird\"\n",
    "print(Names[3])"
   ]
  },
  {
   "cell_type": "code",
   "execution_count": null,
   "metadata": {
    "collapsed": true
   },
   "outputs": [],
   "source": [
    "P=1000\n",
    "r='0.08'\n",
    "t=1\n",
    "\n",
    "Amount=P(1+r/n)**(n*t)\n",
    "print(Amount)"
   ]
  }
 ],
 "metadata": {
  "kernelspec": {
   "display_name": "Python 3",
   "language": "python",
   "name": "python3"
  },
  "language_info": {
   "codemirror_mode": {
    "name": "ipython",
    "version": 3
   },
   "file_extension": ".py",
   "mimetype": "text/x-python",
   "name": "python",
   "nbconvert_exporter": "python",
   "pygments_lexer": "ipython3",
   "version": "3.6.3"
  }
 },
 "nbformat": 4,
 "nbformat_minor": 2
}
