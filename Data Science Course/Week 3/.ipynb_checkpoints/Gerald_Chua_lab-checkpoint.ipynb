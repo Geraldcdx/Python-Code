{
 "cells": [
  {
   "cell_type": "markdown",
   "metadata": {},
   "source": [
    "# Lab 3"
   ]
  },
  {
   "cell_type": "markdown",
   "metadata": {},
   "source": [
    "Question 1: Imagine right now you are working at DBS, and you are provided with the following data of deposit amount by each client. Make use of an iterative device (For or while loop) to find and print out the highest amount"
   ]
  },
  {
   "cell_type": "code",
   "execution_count": 1,
   "metadata": {},
   "outputs": [
    {
     "name": "stdout",
     "output_type": "stream",
     "text": [
      "9480938.2\n"
     ]
    }
   ],
   "source": [
    "data = [73284, 8784.3, 9480938.2, 984958.3, 24131, 45789, 734987, 23545.3, 894859.2, 842758,3]\n",
    "\n",
    "#Write your code below\n",
    "high=-99999\n",
    "for x in range(len(data)):\n",
    "    if(high<data[x]):\n",
    "        high=data[x]\n",
    "print(high)\n",
    "\n"
   ]
  },
  {
   "cell_type": "markdown",
   "metadata": {},
   "source": [
    "Question 2: Imagine right now you are working at DBS, and you are provided with the following data of deposit amount by each client. You are now required to store any deposit amounts larger than 50000 in a seperate list highnetwork. Make use of an iterative device (For or while loop) to filter based on the mentioned condition, and store those amounts that makes the cut into the list. \n",
    "\n",
    "Hint: Remember the append method??\n",
    "\n"
   ]
  },
  {
   "cell_type": "code",
   "execution_count": null,
   "metadata": {
    "collapsed": true
   },
   "outputs": [],
   "source": [
    "data = [73284, 8784.3, 9480938.2, 984958.3, 24131, 45789, 734987, 23545.3, 894859.2, 842758,3]\n",
    "highnetwork = []\n",
    "\n",
    "#Write your code below\n",
    "for i in \n",
    "\n"
   ]
  },
  {
   "cell_type": "markdown",
   "metadata": {},
   "source": [
    "Question 3:  To further improve its database, DBS has changed the way in which it stores its data. Every data is now stored in the form of a dictionary, with the key being the client's name, and the corresponding value being his network. Make use of an iterative device (For or while loop) to find and return the name of the client with the highest network. \n",
    "\n",
    "Hint: To iterate a dictionary you have to use .items() and it gives you two items each iteration."
   ]
  },
  {
   "cell_type": "code",
   "execution_count": null,
   "metadata": {
    "collapsed": true
   },
   "outputs": [],
   "source": [
    "data = {'Jeremy':73284, 'Hansel':8784.3, 'Uee':9480938.2, 'Seolhyun':984958.3, 'Ketsuno Ana':24131, 'Trump':45789}\n",
    "\n",
    "#Write your code below"
   ]
  },
  {
   "cell_type": "markdown",
   "metadata": {},
   "source": [
    "Question 4 (Advanced: 7/10): DBS has further improved its database. And you can observe that DBS now has more information about her clients. Make use of an iterative device (For or while loop) to find the average salary among all her clients. \n",
    "\n",
    "Hint: Go back to your lab 2 consolidation question 2 to revise how to access data from a nested list of dictionary."
   ]
  },
  {
   "cell_type": "code",
   "execution_count": null,
   "metadata": {
    "collapsed": true
   },
   "outputs": [],
   "source": [
    "DBS = [{'Name':'Rick Jones', 'Job':'Software Engineer', 'Salary':909802},\n",
    "               {'Name':'Marissa Meyer', 'Job':'COO', 'Salary':9320809},\n",
    "               {'Name':'Avril Ting', 'Job':'MD', 'Salary':932846}]\n",
    "\n",
    "#Write your code below"
   ]
  }
 ],
 "metadata": {
  "kernelspec": {
   "display_name": "Python 3",
   "language": "python",
   "name": "python3"
  },
  "language_info": {
   "codemirror_mode": {
    "name": "ipython",
    "version": 3
   },
   "file_extension": ".py",
   "mimetype": "text/x-python",
   "name": "python",
   "nbconvert_exporter": "python",
   "pygments_lexer": "ipython3",
   "version": "3.6.3"
  }
 },
 "nbformat": 4,
 "nbformat_minor": 2
}
