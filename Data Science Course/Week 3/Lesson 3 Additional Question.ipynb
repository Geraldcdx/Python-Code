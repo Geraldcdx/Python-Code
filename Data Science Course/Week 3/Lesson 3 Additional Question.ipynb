{
 "cells": [
  {
   "cell_type": "markdown",
   "metadata": {},
   "source": [
    "# Additional Question\n",
    "\n",
    "The below questions are questions that you have attempted before. Previously before you learn about loops, a lot of codes that you have used are repetitive.\n",
    "Therefore you will be applying loops to make your code less repetitive which makes your code more efficient as a result."
   ]
  },
  {
   "cell_type": "markdown",
   "metadata": {},
   "source": [
    "\n",
    "After having created a tuple variable `video_ads`, we want to find out how much we should be paying advertisers for each video. After calculating the today fee \n",
    "\n",
    "**Here are the rules for the payment model:**\n",
    "\n",
    "- If there are fewer than 10,000 views, each view is charged at \\$0.82 each\n",
    "- If there are fewer than 50,000 views but more than or equal to 10,000 views, each view is charged at \\$0.68 each\n",
    "- If there are more than or equal to 50,000 views, each view is charged at \\$0.55 each\n",
    "\n",
    "Make use of `if-elif-else` conditions to solve this problem, and get the final amount paid for each video.\n",
    "\n",
    "**Example output:**\n",
    "```\n",
    "Healthy Living: $1532.83\n",
    "Get a ride, anytime anywhere: $3339.23\n",
    "```"
   ]
  },
  {
   "cell_type": "code",
   "execution_count": 61,
   "metadata": {},
   "outputs": [
    {
     "name": "stdout",
     "output_type": "stream",
     "text": [
      "Healthy Living: $10835.12\n",
      "Get a ride, anytime anywhere: $508108.70\n",
      "Send money to your friends with GrabPay: $15956.88\n",
      "Ubereats now delivers nationwide: $1096.34\n",
      "Get cabs now with UberFlash: $49628.70\n"
     ]
    }
   ],
   "source": [
    "video_ad_1 = {\"title\": \"Healthy Living\", \"company\": \"Health Promotion Board\", \"views\": 15934}\n",
    "video_ad_2 = {\"title\": \"Get a ride, anytime anywhere\", \"company\": \"Uber\", \"views\": 923834}\n",
    "video_ad_3 = {\"title\": \"Send money to your friends with GrabPay\", \"company\": \"Grab\", \"views\": 23466}\n",
    "video_ad_4 = {\"title\": \"Ubereats now delivers nationwide\", \"company\": \"Uber\", \"views\": 1337}\n",
    "video_ad_5 = {\"title\": \"Get cabs now with UberFlash\", \"company\": \"Uber\", \"views\": 90234}\n",
    "\n",
    "data = [video_ad_1, video_ad_2, video_ad_3, video_ad_4, video_ad_5]\n",
    "\n",
    "for i in data:\n",
    "    total=0\n",
    "    view=i['views']\n",
    "    if(view<10000):\n",
    "        total=view*0.82\n",
    "    elif(view<50000):\n",
    "        total=view*0.68\n",
    "    else:\n",
    "        total=view*0.55\n",
    "\n",
    "    print(i['title']+\": $\"+str(\"{:.2f}\".format(total)))\n",
    "    \n",
    "    "
   ]
  },
  {
   "cell_type": "markdown",
   "metadata": {},
   "source": [
    "** Part 2 - Append the age using a for loop **"
   ]
  },
  {
   "cell_type": "code",
   "execution_count": 64,
   "metadata": {},
   "outputs": [
    {
     "name": "stdout",
     "output_type": "stream",
     "text": [
      "[{'Name': 'Rick Jones', 'Job': 'Software Engineer', 'Salary': 909802, 'age': 20}, {'Name': 'Marissa Meyer', 'Job': 'COO', 'Salary': 9320809, 'age': 45}, {'Name': 'Avril Ting', 'Job': 'MD', 'Salary': 932846, 'age': 55}]\n"
     ]
    }
   ],
   "source": [
    "#Nested list of dictionary data\n",
    "linked_data = [{'Name':'Rick Jones', 'Job':'Software Engineer', 'Salary':909802},\n",
    "               {'Name':'Marissa Meyer', 'Job':'COO', 'Salary':9320809},\n",
    "               {'Name':'Avril Ting', 'Job':'MD', 'Salary':932846}]\n",
    "\n",
    "age = [20, 45, 55]\n",
    "for i in range(len(linked_data)):\n",
    "    linked_data[i]['age']=age[i]\n",
    "\n",
    "print(linked_data)\n",
    "    \n"
   ]
  },
  {
   "cell_type": "markdown",
   "metadata": {},
   "source": [
    "** Part 3 - Remove all the zeros in the dataset using the `remove` function **\n",
    "\n",
    "Do note that the remove function will only remove the first value they find in the list. You can try attempting using a for loop as well as a while loop."
   ]
  },
  {
   "cell_type": "code",
   "execution_count": 69,
   "metadata": {},
   "outputs": [
    {
     "name": "stdout",
     "output_type": "stream",
     "text": [
      "[1, 2, 1, 2, 5, -1, -2, 5, -5, 2, 6, -3, -4, 1, 2, 2, 5, -1, 9, -8, -9, 2, 1]\n",
      "lol\n",
      "5\n"
     ]
    }
   ],
   "source": [
    "#Use a while loop\n",
    "data = [1,2,0,1,2,5,0,-1,-2,5,-5,0,2,6,-3,-4,1,2,0,2,5,-1,9,0,-8,-9,0,2,0,1]\n",
    "num=len(data)\n",
    "\n",
    "while((0 in data)):\n",
    "    data.remove(0)\n",
    "print(data)\n",
    "num=0\n",
    "for x in data:\n",
    "    num+=x\n",
    "    if num>10:\n",
    "        print(\"lol\")\n",
    "        print(x)\n",
    "        break\n"
   ]
  },
  {
   "cell_type": "code",
   "execution_count": 59,
   "metadata": {},
   "outputs": [
    {
     "name": "stdout",
     "output_type": "stream",
     "text": [
      "[1, 2, 0, 1, 2, 5, 0, -1, -2, 5, -5, 0, 2, 6, -3, -4, 1, 2, 0, 2, 5, -1, 9, 0, -8, -9, 0, 2, 0, 1]\n",
      "[1, 2, 1, 2, 5, 0, -1, -2, 5, -5, 0, 2, 6, -3, -4, 1, 2, 0, 2, 5, -1, 9, 0, -8, -9, 0, 2, 0, 1]\n",
      "[1, 2, 1, 2, 5, -1, -2, 5, -5, 0, 2, 6, -3, -4, 1, 2, 0, 2, 5, -1, 9, 0, -8, -9, 0, 2, 0, 1]\n",
      "[1, 2, 1, 2, 5, -1, -2, 5, -5, 2, 6, -3, -4, 1, 2, 0, 2, 5, -1, 9, 0, -8, -9, 0, 2, 0, 1]\n",
      "[1, 2, 1, 2, 5, -1, -2, 5, -5, 2, 6, -3, -4, 1, 2, 2, 5, -1, 9, 0, -8, -9, 0, 2, 0, 1]\n",
      "[1, 2, 1, 2, 5, -1, -2, 5, -5, 2, 6, -3, -4, 1, 2, 2, 5, -1, 9, -8, -9, 0, 2, 0, 1]\n",
      "[1, 2, 1, 2, 5, -1, -2, 5, -5, 2, 6, -3, -4, 1, 2, 2, 5, -1, 9, -8, -9, 2, 0, 1]\n",
      "[1, 2, 1, 2, 5, -1, -2, 5, -5, 2, 6, -3, -4, 1, 2, 2, 5, -1, 9, -8, -9, 2, 1]\n"
     ]
    }
   ],
   "source": [
    "#Use a for loop\n",
    "data = [1,2,0,1,2,5,0,-1,-2,5,-5,0,2,6,-3,-4,1,2,0,2,5,-1,9,0,-8,-9,0,2,0,1]\n",
    "\n",
    "num=0\n",
    "# for x in range(len(data)):\n",
    "#     if(data[x]==0):\n",
    "#         num+=1\n",
    "# for y in range(num):\n",
    "#     data.remove(0)\n",
    "\n",
    "# print(data)\n",
    "\n",
    "num=0\n",
    "for x in data:\n",
    "    if(x==0):\n",
    "        print(data)\n",
    "        data.remove(0)\n",
    "print(data)\n",
    "\n"
   ]
  }
 ],
 "metadata": {
  "kernelspec": {
   "display_name": "Python 3",
   "language": "python",
   "name": "python3"
  },
  "language_info": {
   "codemirror_mode": {
    "name": "ipython",
    "version": 3
   },
   "file_extension": ".py",
   "mimetype": "text/x-python",
   "name": "python",
   "nbconvert_exporter": "python",
   "pygments_lexer": "ipython3",
   "version": "3.6.3"
  }
 },
 "nbformat": 4,
 "nbformat_minor": 2
}
