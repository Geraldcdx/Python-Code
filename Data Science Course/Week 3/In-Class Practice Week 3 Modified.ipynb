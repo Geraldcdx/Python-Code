{
 "cells": [
  {
   "cell_type": "markdown",
   "metadata": {},
   "source": [
    "<h2> Python Iterations: Part 1</h2>"
   ]
  },
  {
   "cell_type": "markdown",
   "metadata": {},
   "source": [
    "#### For Loop Simple Example"
   ]
  },
  {
   "cell_type": "code",
   "execution_count": 2,
   "metadata": {},
   "outputs": [
    {
     "name": "stdout",
     "output_type": "stream",
     "text": [
      "5\n",
      "4\n",
      "3\n",
      "2\n",
      "1\n",
      "Peekaboo!\n"
     ]
    }
   ],
   "source": [
    "countdown = [5, 4, 3, 2, 1]\n",
    "\n",
    "#Each iteration, the leftmost value of the list would be stored in i\n",
    "for i in countdown:\n",
    "    print(i)\n",
    "print ('Peekaboo!')\n"
   ]
  },
  {
   "cell_type": "code",
   "execution_count": 4,
   "metadata": {},
   "outputs": [
    {
     "name": "stdout",
     "output_type": "stream",
     "text": [
      "Happy New Year:Joseph\n",
      "Happy New Year:Glenn\n",
      "Happy New Year:Sally\n",
      "Done!\n"
     ]
    }
   ],
   "source": [
    "#This for loop works regardless of the data type\n",
    "friends = ['Joseph', 'Glenn', 'Sally']\n",
    "\n",
    "for friend in friends : \n",
    "   print('Happy New Year:'+  friend)\n",
    "\n",
    "print ('Done!')"
   ]
  },
  {
   "cell_type": "markdown",
   "metadata": {},
   "source": [
    "#### CHANNEL ENGAGEMENT\n",
    "You are given the below list of YouTube channels’ number of views and comments. Using a <u>for loop</u>, compute and print the engagement_scores\n",
    "<div class=\"alert alert-block alert-info\"><center>engagement_scores = video_comments/video_views\n",
    " </center></div>"
   ]
  },
  {
   "cell_type": "code",
   "execution_count": 3,
   "metadata": {},
   "outputs": [
    {
     "name": "stdout",
     "output_type": "stream",
     "text": [
      "0.102\n",
      "0.08943089430894309\n",
      "0.0634453781512605\n",
      "0.102\n",
      "0.08943089430894309\n",
      "0.0634453781512605\n"
     ]
    }
   ],
   "source": [
    "channels = [{'title':'xiaxue', 'views':50000, 'comments':5100}, \n",
    "            {'title':'roy', 'views':123, 'comments':11},\n",
    "            {'title':'brownietv', 'views':2380, 'comments':151}]\n",
    "\n",
    "x=len(channels)\n",
    "for i in range(len(channels)):\n",
    "    print(channels[i]['comments']/channels[i]['views'])\n",
    "    \n",
    "for x in channels:\n",
    "    print(x['comments']/x['views'])"
   ]
  },
  {
   "cell_type": "markdown",
   "metadata": {},
   "source": [
    "#### UNDERSTANDING FOR LOOPS\n",
    "Given the below sequence, \n",
    "- Count the number of positive numbers in the sequence\n",
    "- Count the number of negative numbers in the sequence\n",
    "- Find the biggest number in the sequence\n",
    "- Find the smallest number in the sequence\n",
    "- Find the sum of all the numbers in the sequence\n",
    "- Find the mean of the number in the sequence"
   ]
  },
  {
   "cell_type": "code",
   "execution_count": 5,
   "metadata": {},
   "outputs": [
    {
     "name": "stdout",
     "output_type": "stream",
     "text": [
      "3\n",
      "12\n",
      "9\n",
      "15\n",
      "3\n",
      "12\n",
      "9\n",
      "15\n"
     ]
    }
   ],
   "source": [
    "seq = [3, -4, 12, 9, -72, 0, 15]\n",
    "\n",
    "#Count the number of positive numbers in the sequence\n",
    "for i in range(len(seq)):\n",
    "    if(seq[i]>0):\n",
    "        print(seq[i])\n",
    "        \n",
    "for x in seq:\n",
    "    if(x>0):\n",
    "        print(x)"
   ]
  },
  {
   "cell_type": "code",
   "execution_count": 22,
   "metadata": {},
   "outputs": [
    {
     "name": "stdout",
     "output_type": "stream",
     "text": [
      "-4\n",
      "-72\n"
     ]
    }
   ],
   "source": [
    "seq = [3, -4, 12, 9, -72, 0, 15]\n",
    "\n",
    "#Count the number of negative numbers in the sequence\n",
    "for i in range(len(seq)):\n",
    "    if(seq[i]<0):\n",
    "        print(seq[i])"
   ]
  },
  {
   "cell_type": "code",
   "execution_count": 24,
   "metadata": {},
   "outputs": [
    {
     "name": "stdout",
     "output_type": "stream",
     "text": [
      "15\n"
     ]
    }
   ],
   "source": [
    "seq = [3, -4, 12, 9, -72, 0, 15]\n",
    "\n",
    "#Find the biggest number in the sequence\n",
    "big=0\n",
    "for i in range(len(seq)):\n",
    "    if seq[i]>big:\n",
    "        big=seq[i]\n",
    "print(big)\n",
    "        "
   ]
  },
  {
   "cell_type": "code",
   "execution_count": 25,
   "metadata": {},
   "outputs": [
    {
     "name": "stdout",
     "output_type": "stream",
     "text": [
      "-72\n"
     ]
    }
   ],
   "source": [
    "seq = [3, -4, 12, 9, -72, 0, 15]\n",
    "\n",
    "#Find the smallest number in the sequence\n",
    "small=999999\n",
    "for i in range(len(seq)):\n",
    "    if(seq[i]<small):\n",
    "        small=seq[i]\n",
    "print(small)"
   ]
  },
  {
   "cell_type": "code",
   "execution_count": 27,
   "metadata": {},
   "outputs": [
    {
     "name": "stdout",
     "output_type": "stream",
     "text": [
      "-72\n",
      "-4\n",
      "0\n",
      "3\n",
      "9\n",
      "12\n",
      "15\n"
     ]
    }
   ],
   "source": [
    "seq = [3, -4, 12, 9, -72, 0, 15]\n",
    "\n",
    "#Find the sum of all the numbers in the sequence\n",
    "seq.sort()\n",
    "for i in range(len(seq)):\n",
    "    print(seq[i])\n"
   ]
  },
  {
   "cell_type": "code",
   "execution_count": 28,
   "metadata": {},
   "outputs": [
    {
     "name": "stdout",
     "output_type": "stream",
     "text": [
      "-5.285714285714286\n"
     ]
    }
   ],
   "source": [
    "seq = [3, -4, 12, 9, -72, 0, 15]\n",
    "\n",
    "#Find the mean of the number in the sequence\n",
    "total=0\n",
    "for i in range(len(seq)):\n",
    "    total+=seq[i]\n",
    "print(total/len(seq))"
   ]
  },
  {
   "cell_type": "markdown",
   "metadata": {},
   "source": [
    "#### FILTERING LOOPS USING RANGE\n",
    "Use the “for range” method to count and print the number of positive odd numbers in the following list.\n",
    "\n",
    "<i>Hint</i>: \n",
    "1. len() methods return the size of the list\n",
    "2. Recall that using the index (i.e “list[0]”) function will return you a specific element for the list"
   ]
  },
  {
   "cell_type": "code",
   "execution_count": 30,
   "metadata": {},
   "outputs": [
    {
     "name": "stdout",
     "output_type": "stream",
     "text": [
      "3\n",
      "12\n",
      "9\n",
      "15\n",
      "4\n"
     ]
    }
   ],
   "source": [
    "seq = [3, -4, 12, 9, -72, 0, 15]\n",
    "pos=0\n",
    "for i in range(len(seq)):\n",
    "    if(seq[i]>0):\n",
    "        print(seq[i])\n",
    "        pos+=1\n",
    "print(pos)"
   ]
  },
  {
   "cell_type": "markdown",
   "metadata": {},
   "source": [
    "#### APPLYING THE FUNDAMENTALS TO DICTIONARY\n",
    "\n",
    "The following shows how we can use the same principles to iterate through a dictionary and access the data to solve some problems"
   ]
  },
  {
   "cell_type": "code",
   "execution_count": 31,
   "metadata": {},
   "outputs": [
    {
     "name": "stdout",
     "output_type": "stream",
     "text": [
      "num_1\n",
      "10\n",
      "num_2\n",
      "20\n",
      "num_3\n",
      "30\n",
      "10\n"
     ]
    }
   ],
   "source": [
    "#The following shows how you can access the data\n",
    "seq = {'num_1':10,'num_2':20,'num_3':30}\n",
    "large_num = seq['num_1']\n",
    "\n",
    "for key,value in seq.items():\n",
    "    print(key)\n",
    "    print(value)\n",
    "\n",
    "print(large_num)\n"
   ]
  },
  {
   "cell_type": "code",
   "execution_count": 32,
   "metadata": {},
   "outputs": [
    {
     "name": "stdout",
     "output_type": "stream",
     "text": [
      "60\n"
     ]
    }
   ],
   "source": [
    "#Say for example if we want to find the sum of seq\n",
    "\n",
    "seq = {'num_1':10,'num_2':20,'num_3':30}\n",
    "total = 0 \n",
    "\n",
    "for key,value in seq.items():\n",
    "    total += value\n",
    "\n",
    "print(total)\n"
   ]
  },
  {
   "cell_type": "markdown",
   "metadata": {},
   "source": [
    "#### While Loop: Simple Example"
   ]
  },
  {
   "cell_type": "code",
   "execution_count": null,
   "metadata": {
    "collapsed": true
   },
   "outputs": [],
   "source": [
    "#Simple example of while loop\n",
    "while True:\n",
    "    print(1)\n",
    "    \n",
    "#You can observe that as long as the condition is true, the action statement will always be executed"
   ]
  },
  {
   "cell_type": "code",
   "execution_count": 2,
   "metadata": {
    "collapsed": true
   },
   "outputs": [],
   "source": [
    "#Simple example of while loop\n",
    "while False:\n",
    "    print(1)\n",
    "    \n",
    "#You can observe that as long as the condition is false, the action statement will always not be executed"
   ]
  },
  {
   "cell_type": "markdown",
   "metadata": {},
   "source": [
    "#### While Loop: Any conditions that returns a true/false to the while construct would work"
   ]
  },
  {
   "cell_type": "code",
   "execution_count": null,
   "metadata": {
    "collapsed": true
   },
   "outputs": [],
   "source": [
    "#Let me further convince you that anything that offers a true/false would work with the while loop\n",
    "\n",
    "#The following condition would return you a false\n",
    "i = 10\n",
    "while i > 10:\n",
    "    print(i)\n",
    "    "
   ]
  },
  {
   "cell_type": "code",
   "execution_count": null,
   "metadata": {
    "collapsed": true
   },
   "outputs": [],
   "source": [
    "#The following condition would return you a true\n",
    "i = 1\n",
    "while i < 10:\n",
    "    print(i)\n",
    "\n",
    "x=1\n",
    "while x<10:\n",
    "    x+=1\n",
    "    print(x)\n",
    "    \n",
    "#Again, you observe that as the condition is true, the action executes perpetually\n",
    "#This is what we term as an infinite loop, a loop that never stops executing"
   ]
  },
  {
   "cell_type": "markdown",
   "metadata": {},
   "source": [
    "#### While Loop: Creating the right condition for a definite loop"
   ]
  },
  {
   "cell_type": "code",
   "execution_count": null,
   "metadata": {
    "collapsed": true
   },
   "outputs": [],
   "source": [
    "#The following condition would return you a true for a limited time\n",
    "i = 0\n",
    "while i < 10:\n",
    "    print(i)\n",
    "    i += 1\n",
    "\n",
    "#Every iteration, i would increment by 1, and this happens till i = 10, which at this point the condition\n",
    "#is no longer true anymore"
   ]
  },
  {
   "cell_type": "markdown",
   "metadata": {},
   "source": [
    "#### While Loop: Applied to a more complex example"
   ]
  },
  {
   "cell_type": "code",
   "execution_count": 6,
   "metadata": {},
   "outputs": [
    {
     "name": "stdout",
     "output_type": "stream",
     "text": [
      "despacito\n",
      "see_you_again\n",
      "im_yours\n",
      "that’s all folks!\n"
     ]
    }
   ],
   "source": [
    "video_titles = ['despacito', 'see_you_again', 'im_yours']\n",
    "num_of_videos = len(video_titles) #num_of_videos = 3, cause there are 3 videos\n",
    "current_video_index = 0\n",
    "\n",
    "#As long as the current_video_index is lesser than 3\n",
    "while current_video_index < num_of_videos: \n",
    "    print(video_titles[current_video_index])\n",
    "    current_video_index += 1\n",
    "\n",
    "print('that’s all folks!')\n"
   ]
  },
  {
   "cell_type": "code",
   "execution_count": null,
   "metadata": {
    "collapsed": true
   },
   "outputs": [],
   "source": [
    "#### While Loop: If I remove current_video_index += 1\n",
    "video_titles = ['despacito', 'see_you_again', 'im_yours']\n",
    "num_of_videos = len(video_titles) #num_of_videos = 3, cause there are 3 videos\n",
    "current_video_index = 0\n",
    "\n",
    "#As long as the current_video_index is lesser than 3\n",
    "while current_video_index < num_of_videos: \n",
    "    print(video_titles[current_video_index])\n",
    "\n",
    "print('that’s all folks!')"
   ]
  },
  {
   "cell_type": "code",
   "execution_count": 7,
   "metadata": {},
   "outputs": [
    {
     "name": "stdout",
     "output_type": "stream",
     "text": [
      "that’s all folks!\n"
     ]
    }
   ],
   "source": [
    "#### While Loop: If I change the line “current_video_index < num_of_videos” to “current_video_index > num_of_videos”?\n",
    "video_titles = ['despacito', 'see_you_again', 'im_yours']\n",
    "num_of_videos = len(video_titles) #num_of_videos = 3, cause there are 3 videos\n",
    "current_video_index = 0\n",
    "\n",
    "#As long as the current_video_index is lesser than 3\n",
    "while current_video_index > num_of_videos: \n",
    "    print(video_titles[current_video_index])\n",
    "\n",
    "print('that’s all folks!')"
   ]
  },
  {
   "cell_type": "code",
   "execution_count": null,
   "metadata": {
    "collapsed": true
   },
   "outputs": [],
   "source": []
  }
 ],
 "metadata": {
  "kernelspec": {
   "display_name": "Python 3",
   "language": "python",
   "name": "python3"
  },
  "language_info": {
   "codemirror_mode": {
    "name": "ipython",
    "version": 3
   },
   "file_extension": ".py",
   "mimetype": "text/x-python",
   "name": "python",
   "nbconvert_exporter": "python",
   "pygments_lexer": "ipython3",
   "version": "3.6.3"
  }
 },
 "nbformat": 4,
 "nbformat_minor": 2
}
