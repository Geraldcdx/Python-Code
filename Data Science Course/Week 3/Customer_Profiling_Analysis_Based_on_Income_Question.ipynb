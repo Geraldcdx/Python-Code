{
 "cells": [
  {
   "cell_type": "markdown",
   "metadata": {},
   "source": [
    "<h2> Customer Profiling Analysis Based on Income </h2>"
   ]
  },
  {
   "cell_type": "markdown",
   "metadata": {},
   "source": [
    "For this King-of-the-hill, we will be writing very simple code iteration + condition that will allow us to segregate customer based on their income, and ultimately visualise their profile. The visualisation code has already been done for you."
   ]
  },
  {
   "cell_type": "code",
   "execution_count": 3,
   "metadata": {},
   "outputs": [
    {
     "name": "stdout",
     "output_type": "stream",
     "text": [
      "Requirement already satisfied: numpy in c:\\users\\user1\\anaconda3\\lib\\site-packages (1.14.0)\n"
     ]
    },
    {
     "name": "stderr",
     "output_type": "stream",
     "text": [
      "notebook 5.4.0 requires ipykernel, which is not installed.\n",
      "jupyter 1.0.0 requires ipykernel, which is not installed.\n",
      "jupyter-console 5.2.0 requires ipykernel, which is not installed.\n",
      "ipywidgets 7.1.1 requires ipykernel>=4.5.1, which is not installed.\n"
     ]
    },
    {
     "name": "stdout",
     "output_type": "stream",
     "text": [
      "Requirement already satisfied: matplotlib in c:\\users\\user1\\anaconda3\\lib\\site-packages (2.1.2)\n",
      "Requirement already satisfied: numpy>=1.7.1 in c:\\users\\user1\\anaconda3\\lib\\site-packages (from matplotlib) (1.14.0)\n",
      "Requirement already satisfied: six>=1.10 in c:\\users\\user1\\anaconda3\\lib\\site-packages (from matplotlib) (1.11.0)\n",
      "Requirement already satisfied: python-dateutil>=2.1 in c:\\users\\user1\\anaconda3\\lib\\site-packages (from matplotlib) (2.6.1)\n",
      "Requirement already satisfied: pytz in c:\\users\\user1\\anaconda3\\lib\\site-packages (from matplotlib) (2017.3)\n",
      "Requirement already satisfied: cycler>=0.10 in c:\\users\\user1\\anaconda3\\lib\\site-packages (from matplotlib) (0.10.0)\n",
      "Requirement already satisfied: pyparsing!=2.0.4,!=2.1.2,!=2.1.6,>=2.0.1 in c:\\users\\user1\\anaconda3\\lib\\site-packages (from matplotlib) (2.2.0)\n"
     ]
    },
    {
     "name": "stderr",
     "output_type": "stream",
     "text": [
      "notebook 5.4.0 requires ipykernel, which is not installed.\n",
      "jupyter 1.0.0 requires ipykernel, which is not installed.\n",
      "jupyter-console 5.2.0 requires ipykernel, which is not installed.\n",
      "ipywidgets 7.1.1 requires ipykernel>=4.5.1, which is not installed.\n"
     ]
    }
   ],
   "source": [
    "#Before the instructor explains what you are supposed to do for this exercise,\n",
    "#Just run this piece of code first\n",
    "#Nvm, that you don't understand this, you will see the effect for yourself later on\n",
    "#And we will cover this extensively in week 5\n",
    "\n",
    "!pip install numpy\n",
    "!pip install matplotlib"
   ]
  },
  {
   "cell_type": "markdown",
   "metadata": {},
   "source": [
    "<p>The following is the list of all the customer data, just run the cell below once!</p>"
   ]
  },
  {
   "cell_type": "code",
   "execution_count": 4,
   "metadata": {
    "collapsed": true
   },
   "outputs": [],
   "source": [
    "#The following list contains around the income of approximately 649 customers\n",
    "customer_income_data=[54709.28, 45592.84, 73264.97, 99320.82, 123189.82, 44633.12, 16663.9, 28311.45, 22217.76, 39602.2, 33441.42, 16971.18, 45390.63, 130756.58, 102526.89, 30065.5, 44303.26, 97653.26, 24102.13, 44164.11, 92353.55, 58003.57, 145302.24, 46320.85, 74621.28, 30349.28, 21758.96, 19754.92, 95959.44, 20267.99, 120806.38, 38319.91, 95646.58, 108772.73, 57197.44, 70752.16, 40829.66, 52627.62, 93547.41, 21389.24, 131573.55, 74704.59, 80789.47, 49958.48, 89727.98, 113821.89, 135674.85, 108316.1, 26699.36, 24038.74, 105781.89, 66099.69, 77296.79, 84131.64, 54387.18, 88380.01, 53222.99, 41677.23, 49260.22, 33524.76, 69938.68, 77465.8, 55192.45, 89347.18, 57472.45, 17872.83, 28988.96, 22705.23, 24442.16, 48321.65, 47081.88, 59143.93, 17536.67, 58002.85, 74863.08, 88294.96, 51397.58, 37884.72, 25083.91, 85135.34, 51794.92, 63734.78, 26370.42, 23480.6, 57924.74, 89934.86, 116034.02, 56582.33, 48633.52, 61861.29, 66304.63, 41900.13, 30093.56, 24699.29, 41542.2, 104436.68, 43989.98, 34977.76, 65852.14, 45615.91, 19857.45, 56546.66, 54818.87, 68462.78, 75779.38, 74604.16, 49033.76, 87806.47, 49016.58, 83203.06, 106090.17, 93358.97, 37796.35, 65885.87, 99494.28, 66383.8, 90800.33, 77336.24, 100535.36, 40426.66, 99186.0, 37333.94, 47758.27, 79170.7, 54094.25, 31003.08, 87371.69, 73434.95, 43605.57, 68202.15, 65839.78, 15865.07, 43202.58, 59551.9, 27415.43, 64335.82, 100930.4, 27212.77, 103796.16, 80294.73, 25787.93, 20154.59, 44462.69, 98167.17, 37293.15, 31844.24, 77133.51, 101896.04, 109906.9, 110764.65, 53947.64, 48650.63, 43827.2, 42666.83, 47782.79, 52482.79, 17530.23, 60753.18, 20486.09, 44940.91, 105537.67, 28768.85, 123337.47, 50682.09, 93310.29, 50725.56, 39960.25, 80015.81, 26165.5, 40844.24, 49610.51, 18134.81, 65884.94, 42461.08, 35094.25, 34557.68, 37980.81, 123605.46, 85028.11, 37486.06, 76635.41, 31606.11, 71119.59, 134394.73, 67628.79, 39003.33, 138477.5, 25369.27, 65675.86, 79258.77, 62821.31, 35704.97, 65640.03, 34785.9, 59703.27, 47488.36, 49244.47, 122662.15, 95159.42, 67925.35, 44781.17, 50275.07, 75854.0, 23041.53, 16606.67, 34682.41, 93755.24, 70135.48, 37495.26, 17579.82, 83419.53, 99355.68, 18720.65, 41563.18, 113259.35, 40832.88, 100267.78, 52543.55, 44883.89, 53592.8, 36963.64, 25164.35, 58970.04, 34950.96, 69696.97, 66861.25, 80373.95, 40031.29, 59598.37, 27826.29, 40057.52, 53986.85, 15975.25, 104609.33, 90115.5, 99176.25, 119563.14, 47202.32, 24701.66, 22492.12, 46895.0, 74360.12, 19998.98, 19906.36, 17349.91, 73591.45, 99346.47, 48887.22, 62575.44, 72285.83, 20858.25, 51428.74, 32333.53, 94032.16, 56838.02, 109249.5, 18223.71, 110142.45, 35599.2, 51351.82, 96758.76, 125576.54, 94256.16, 124742.95, 23651.58, 59475.82, 65267.59, 62779.36, 50627.74, 47197.75, 71235.3, 64615.22, 32468.56, 37365.46, 24133.71, 95165.83, 67319.7, 20746.84, 16042.63, 19679.38, 42219.49, 125643.09, 60306.02, 31622.34, 73529.85, 67070.39, 28199.93, 78741.88, 44141.46, 117131.42, 66135.56, 81226.41, 60903.62, 34199.84, 43767.56, 59056.72, 23062.44, 97429.57, 26310.74, 70002.24, 40101.99, 121162.88, 55162.87, 62678.7, 93119.2, 76715.74, 77437.73, 36122.52, 43912.65, 39194.11, 129557.17, 97001.21, 80276.39, 16511.2, 48580.0, 21576.0, 76085.12, 147535.83, 46177.84, 20111.63, 58947.9, 53938.96, 77412.77, 80842.25, 68221.19, 84354.07, 101320.26, 100077.39, 124425.06, 75589.99, 56702.95, 24656.91, 74454.5, 61795.01, 51300.75, 18224.6, 49381.18, 46800.34, 61827.62, 77397.28, 22082.3, 48250.47, 54714.8, 95783.6, 105540.09, 76727.3, 134757.33, 20987.17, 29961.32, 49748.93, 115455.39, 77466.12, 59913.41, 21417.02, 42813.18, 79014.91, 49431.08, 84019.07, 70331.53, 57200.75, 21386.18, 89480.6, 65825.99, 36957.2, 124739.67, 45398.31, 151302.78, 53699.12, 74660.76, 40480.24, 77110.46, 34578.02, 64013.57, 22943.07, 26004.6, 44480.49, 73449.82, 100670.91, 26402.07, 73639.0, 18454.61, 35889.43, 23340.74, 87160.46, 27091.76, 34805.57, 16426.74, 46614.33, 16447.64, 77328.63, 103467.08, 27256.53, 119832.28, 38691.79, 25420.43, 96005.01, 73779.08, 23304.43, 45066.66, 117102.31, 60425.78, 103081.6, 46822.08, 50662.42, 50422.21, 56663.11, 88883.76, 66786.16, 32840.4, 53596.41, 65544.94, 55882.11, 138257.44, 69057.7, 42258.78, 118118.97, 75329.45, 70666.28, 57217.24, 23205.86, 75542.82, 40300.59, 101830.62, 71994.06, 55537.91, 36949.75, 28457.11, 85740.88, 96715.67, 32596.86, 53956.71, 61912.42, 46481.5, 59647.47, 73022.87, 56009.03, 18316.53, 56639.95, 26190.46, 23746.94, 144709.87, 34310.22, 45094.29, 22689.61, 72511.24, 36958.85, 57555.09, 79937.04, 120389.03, 59003.36, 38194.37, 75304.57, 28408.85, 56910.74, 154940.55, 33471.56, 78390.37, 58407.13, 31194.89, 82236.05, 18187.54, 88096.46, 73219.76, 67400.33, 22170.61, 87208.42, 48686.48, 31101.37, 130447.37, 114766.03, 68509.62, 160594.04, 51570.36, 72449.95, 93594.6, 47807.5, 145203.79, 101893.17, 46093.72, 23260.7, 50573.59, 93640.69, 46372.97, 19667.42, 20022.81, 67593.47, 57383.6, 92339.0, 89244.1, 52585.76, 177828.45, 94192.16, 51238.02, 97106.27, 63346.99, 50336.05, 58804.63, 74630.11, 61647.27, 129205.59, 26608.43, 93573.46, 61534.02, 52744.72, 112582.01, 26274.5, 65658.41, 59911.84, 50652.53, 93446.68, 90646.66, 39807.31, 45105.59, 22516.58, 52354.31, 68119.8, 63864.33, 73128.49, 43509.98, 65796.67, 48161.15, 81729.12, 36766.65, 38402.35, 63130.29, 58321.61, 72876.85, 77391.7, 44046.91, 61227.15, 68605.78, 57084.38, 59868.19, 60407.41, 52256.91, 110232.07, 105906.85, 75225.14, 26245.65, 75021.01, 63234.19, 104837.28, 58348.09, 55947.4, 45979.98, 49123.99, 71166.46, 93024.05, 55407.59, 47936.35, 112824.22, 29517.75, 28373.58, 79140.76, 100638.51, 112407.22, 79890.06, 42457.77, 82462.59, 48283.42, 20344.9, 61365.48, 57347.73, 80790.86, 42112.57, 124455.95, 105112.2, 75605.37, 109502.21, 41957.8, 51580.71, 62577.76, 84016.69, 73963.74, 17765.92, 17487.02, 37214.57, 21138.91, 54263.47, 35425.43, 41008.66, 120728.19, 63753.98, 43976.24, 31899.02, 42371.45, 52158.67, 36476.24, 58396.59, 55550.25, 56093.86, 30930.86, 88135.09, 131135.68, 96201.37, 61889.63, 19068.8, 60717.36, 34175.94, 30306.0, 138437.55, 84354.22, 65821.29, 22157.95, 54798.58, 34669.22, 116954.39, 40268.25, 69887.48, 16134.35, 33281.87, 31186.19, 182204.17, 47099.69, 53444.3, 25536.05, 37635.04, 29525.6, 78844.68, 37190.03, 41372.4, 58616.62, 127142.4, 34301.01, 17889.49, 16343.2, 39684.89, 95262.29, 50915.44, 45013.36, 75126.84, 45674.39, 126532.46, 61348.35, 26570.86, 106888.29, 38399.9, 33129.77, 127190.9, 73403.54, 59023.03, 91026.31, 82885.97, 83728.19, 18820.25, 46557.6, 106754.65, 44211.22, 37175.55]"
   ]
  },
  {
   "cell_type": "markdown",
   "metadata": {},
   "source": [
    "Using the income data of the above 649 customers, we want to break them up into groups based on their income level. Write a for loop to go through the <b> customer_income_data </b> list, and segregate them based on the following conditions:\n",
    "\n",
    " - If the customer income is below 20k, they belong to the first group\n",
    " - If the customer income is from 20k to 40k (exclusive of), they belong to the second group\n",
    " - If the customer income is between 40k to 60k (exclusive of), they belong to the third group\n",
    " - If the customer income is betweek 60k to 100k(exclusive of), they belong to the fourth group\n",
    " - If the customer income is above 100k, then they belong to the fifth group\n",
    " \n",
    " \n",
    "Your role is simple, in your for loop, make use of conditions to determine which group a customer belong to and alter the <b>customer_segment_count</b> list accordingly. So for example if I have 100 customers in each group, then in my <b>customer_segment_count</b>, I am supposed to see [100,100,100,100,100]"
   ]
  },
  {
   "cell_type": "markdown",
   "metadata": {},
   "source": [
    "<p>Your expected output should be: <b>[34, 141, 181, 208, 85]</b></p>"
   ]
  },
  {
   "cell_type": "code",
   "execution_count": 8,
   "metadata": {},
   "outputs": [
    {
     "name": "stdout",
     "output_type": "stream",
     "text": [
      "[34, 141, 181, 208, 85]\n"
     ]
    }
   ],
   "source": [
    "#You will alter this list based on the number of\n",
    "#customers that fall in each segment and the final results will all be captured in this list\n",
    "customer_segment_count = [0,0,0,0,0]\n",
    "\n",
    "#Write your code below (You will only need to code in this cell)\n",
    "for x in customer_income_data:\n",
    "    if x <20000:\n",
    "        customer_segment_count[0]+=1\n",
    "    elif x<40000:\n",
    "        customer_segment_count[1]+=1\n",
    "    elif x<60000:\n",
    "        customer_segment_count[2]+=1\n",
    "    elif x<100000:\n",
    "        customer_segment_count[3]+=1\n",
    "    else:\n",
    "        customer_segment_count[4]+=1\n",
    "\n",
    "print(customer_segment_count)\n",
    "\n",
    "\n"
   ]
  },
  {
   "cell_type": "markdown",
   "metadata": {},
   "source": [
    "<h2>The following is just bonus content for you guys:)</h2>\n",
    "<p>It shows how the output from your King of the hill can be utilised to display the cool chart below</p>"
   ]
  },
  {
   "cell_type": "code",
   "execution_count": 7,
   "metadata": {},
   "outputs": [
    {
     "data": {
      "image/png": "[encoded data removed]",
      "text/plain": [
       "<matplotlib.figure.Figure at 0x24da3e97470>"
      ]
     },
     "metadata": {},
     "output_type": "display_data"
    }
   ],
   "source": [
    "#For this code below you don't have to do anything to it. All you have to do is run it. \n",
    "#If your answer is correct, you should see very nicely segregated bar chart appearing below\n",
    "#This King-of-the-hill serves to give you a glimpse of why you are learning iterations, and\n",
    "#how it can be applied to create usable product/analysis\n",
    "\n",
    "\n",
    "import matplotlib.pyplot as plt\n",
    "\n",
    "#Plot SG_Products\n",
    "fig = plt.figure()\n",
    "plt.bar([0,1,2,3,4], customer_segment_count, align='center')\n",
    "plt.xticks([0,1,2,3,4], ['Below 20k', '20k to 40k', '40k to 60k', '60k to 100k', 'Above 100k'],rotation='vertical')\n",
    "fig.suptitle('Customer Income Distribution', fontsize=20)\n",
    "plt.show()\n"
   ]
  },
  {
   "cell_type": "code",
   "execution_count": null,
   "metadata": {
    "collapsed": true
   },
   "outputs": [],
   "source": []
  }
 ],
 "metadata": {
  "kernelspec": {
   "display_name": "Python 3",
   "language": "python",
   "name": "python3"
  },
  "language_info": {
   "codemirror_mode": {
    "name": "ipython",
    "version": 3
   },
   "file_extension": ".py",
   "mimetype": "text/x-python",
   "name": "python",
   "nbconvert_exporter": "python",
   "pygments_lexer": "ipython3",
   "version": "3.6.3"
  }
 },
 "nbformat": 4,
 "nbformat_minor": 2
}
